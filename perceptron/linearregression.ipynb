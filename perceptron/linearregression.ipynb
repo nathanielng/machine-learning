{
 "cells": [
  {
   "cell_type": "markdown",
   "metadata": {},
   "source": [
    "# Linear Regression\n",
    "\n",
    "## 1. Introduction\n",
    "\n",
    "### 1.1 Abstract\n",
    "\n",
    "In this exercise, we illustrate Hoeffding's inequality in the context of virtual coin flips.\n",
    "\n",
    "### 1.2 Hoeffding's Inequality for a Single Bin\n",
    "\n",
    "For an infinite bin, from which we pick a sample of size $N$, we can calculate the probability bounds between the sample frequency, $\\nu$, and unknown the bin frequency, $\\mu$ via [Hoeffding's Inequality](https://en.wikipedia.org/wiki/Hoeffding%27s_inequality):\n",
    "\n",
    "$$\\mathbb{P} \\left[ \\left| \\nu - \\mu \\right| > \\epsilon \\right] \\le 2e^{-2\\epsilon^2 N}$$\n",
    "\n",
    "It is valid for all $N$ and $\\epsilon$ and the bound does not depend on $\\mu$.  It illustrates the tradeoff between $N$, $\\epsilon$, and the bound.\n",
    "\n",
    "### 1.3 Libraries\n",
    "\n",
    "The Python libraries used are:"
   ]
  },
  {
   "cell_type": "code",
   "execution_count": 1,
   "metadata": {
    "collapsed": true
   },
   "outputs": [],
   "source": [
    "from __future__ import absolute_import\n",
    "from __future__ import division\n",
    "from __future__ import print_function\n",
    "from __future__ import unicode_literals\n",
    "\n",
    "import multiprocessing as mp\n",
    "import itertools\n",
    "import numpy as np\n",
    "import matplotlib.pyplot as plt\n",
    "np.set_printoptions(edgeitems=3,infstr='inf',linewidth=75,nanstr='nan',precision=4,suppress=False,threshold=500,formatter=None)\n",
    "%matplotlib inline"
   ]
  },
  {
   "cell_type": "markdown",
   "metadata": {},
   "source": [
    "## 2. Virtual Coin Flips\n",
    "\n",
    "### 2.1 Mean Frequency of \"Obtaining a Head\" for Three Coins\n",
    "\n",
    "In this virtual experiment, 1000 fair coins are simulated.  Each coin is flipped 10 times.  The data is stored in a matrix where the 10 columns represent each of the 10 flips and the 1000 rows represent the 1000 individual coins.\n",
    "\n",
    "It is assumed that 'heads' are represented by '1' and 'tails' are represented by '0', so that we can use `np.sum(..., axis=1)` to get the number of heads for each coin.\n",
    "\n",
    "A total of three coins are selected from the 1000 fair coins - $c_1$ is the first coin, $c_{rand}$ is a random coin, and $c_{min}$ is the coin that yielded the minimum number of heads (out of the 10 coin flips).  The following code calculates the mean frequency of \"obtaining a head\" for each of these three coins."
   ]
  },
  {
   "cell_type": "code",
   "execution_count": 2,
   "metadata": {
    "collapsed": false
   },
   "outputs": [],
   "source": [
    "def get_coin_flip_data():\n",
    "    c       = np.random.randint(2,size=(1000,10))\n",
    "    idx     = np.random.choice(1000)   # choose index for a random coin\n",
    "    n_heads = np.sum(c,axis=1)         # calculate the number of heads\n",
    "    lo      = np.argmin(n_heads)       # find first argument with smallest number of heads\n",
    "\n",
    "    c_1     = c[0,:]                   # choose the first coin\n",
    "    c_rand  = c[idx,:]                 # choose a random coin\n",
    "    c_min   = c[lo,:]                  # choose the coin with the minimum number of heads\n",
    "    \n",
    "    ν_1     = np.mean(c_1)             # get the fraction of heads for first coin\n",
    "    ν_rand  = np.mean(c_rand)          # get the fraction of heads for random coin\n",
    "    ν_min   = np.mean(c_min)           # get the fraction of heads for coin with minimum number of heads\n",
    "    return ν_1, ν_rand, ν_min"
   ]
  },
  {
   "cell_type": "code",
   "execution_count": 3,
   "metadata": {
    "collapsed": false
   },
   "outputs": [],
   "source": [
    "def run_experiment(N=100000,seed=None,verbose=False):\n",
    "    if seed is not None:\n",
    "        np.random.seed(seed)\n",
    "    sum_ν_1    = 0.0\n",
    "    sum_ν_rand = 0.0\n",
    "    sum_ν_min  = 0.0\n",
    "    for i in range(N):\n",
    "        ν_1, ν_rand, ν_min = get_coin_flip_data()\n",
    "        sum_ν_1    += ν_1\n",
    "        sum_ν_rand += ν_rand\n",
    "        sum_ν_min  += ν_min\n",
    "\n",
    "    mean_ν_1    = sum_ν_1/N\n",
    "    mean_ν_rand = sum_ν_rand/N\n",
    "    mean_ν_min  = sum_ν_min/N\n",
    "\n",
    "    if verbose is True:\n",
    "        print(\"Mean ν_1    = {}\".format(mean_ν_1))\n",
    "        print(\"Mean ν_rand = {}\".format(mean_ν_rand))\n",
    "        print(\"Mean ν_min  = {}\".format(mean_ν_min))\n",
    "\n",
    "    return mean_ν_min"
   ]
  },
  {
   "cell_type": "code",
   "execution_count": 4,
   "metadata": {
    "collapsed": true
   },
   "outputs": [],
   "source": [
    "def run_experiment_parallel(N=100000,verbose=False):\n",
    "    n_cpus = mp.cpu_count()//2\n",
    "    experiments = list(itertools.repeat(N//n_cpus,n_cpus))\n",
    "    #Note that this makes an assumption that the different seeds\n",
    "    #will generate independent random streams; this may not be true.\n",
    "    seeds = np.random.choice(N,n_cpus,replace=False)\n",
    "    p = mp.Pool(n_cpus)\n",
    "    ν_arr = p.starmap(run_experiment,zip(experiments,seeds,itertools.repeat(False)))\n",
    "    ν_arr = np.array(ν_arr)\n",
    "    if verbose is True:\n",
    "        print(ν_arr)\n",
    "    return np.mean(ν_arr)"
   ]
  },
  {
   "cell_type": "code",
   "execution_count": 5,
   "metadata": {
    "collapsed": false
   },
   "outputs": [
    {
     "name": "stdout",
     "output_type": "stream",
     "text": [
      "[ 0.0375  0.0378  0.0377  0.0374]\n",
      "CPU times: user 11 ms, sys: 9.77 ms, total: 20.7 ms\n",
      "Wall time: 2.97 s\n"
     ]
    },
    {
     "data": {
      "text/plain": [
       "0.03762100000000581"
      ]
     },
     "execution_count": 5,
     "metadata": {},
     "output_type": "execute_result"
    }
   ],
   "source": [
    "# Takes about 10 seconds for N=100k: [0.037, 0.0374, 0.0376, 0.0378]\n",
    "# %time run_experiment(N=100000)\n",
    "%time run_experiment_parallel(verbose=True)"
   ]
  },
  {
   "cell_type": "markdown",
   "metadata": {},
   "source": [
    "### 2.2 Which coin(s) have a mean that satisfy Hoeffding's Inequality?\n",
    "\n",
    "The coins with a distribution of $\\nu$ that satisfies the (single-bin) Hoeffding Inequality are $c_1$ and $c_{rand}$ because their means, $\\nu_1, \\nu_{rand}$ are close to 0.5, while $\\nu_{min}$ is **not** close to 0.5.\n",
    "\n",
    "To get the probability bounds that $\\nu$ will be close to the bin frequency (within a certain tolerance, $\\epsilon$, the following function can be used:"
   ]
  },
  {
   "cell_type": "code",
   "execution_count": 6,
   "metadata": {
    "collapsed": false
   },
   "outputs": [
    {
     "data": {
      "text/plain": [
       "2.2507034943851823e-07"
      ]
     },
     "execution_count": 6,
     "metadata": {},
     "output_type": "execute_result"
    }
   ],
   "source": [
    "def get_probability_bounds(epsilon=0.02,N=100000):\n",
    "    return 2.0 * np.exp(-2.0*epsilon*epsilon*N)\n",
    "\n",
    "get_probability_bounds(epsilon=0.02,N=20000)"
   ]
  },
  {
   "cell_type": "markdown",
   "metadata": {},
   "source": [
    "Here, it can be seen that the probability that $\\nu$ is **not** within $\\epsilon$=0.01 of the bin frequency, 0.5, is extremely low."
   ]
  },
  {
   "cell_type": "markdown",
   "metadata": {},
   "source": [
    "## 3. Error and Noise\n",
    "\n",
    "### 3.1 Background\n",
    "\n",
    "Let us consider a target function, $y=f\\left(\\mathbf{x}\\right)$.  The effect of noise is that for a given input, $\\mathbf{x}$, it is possible to get multiple values of $y$.  In order to take into account the effects of noise, the *target function* is replaced by a *target distribution*, which we shall call $\\mathbb{P}(y | \\mathbf{x})$.\n",
    "\n",
    "Hence, the sample points, $(\\mathbf{x},y)$, are now generated via the joint distribution:\n",
    "\n",
    "$$\\mathbb{P}(\\mathbf{x})\\mathbb{P}(y|\\mathbf{x}) \\equiv \\mathbb{P}(\\mathbf{x},y)$$\n",
    "\n",
    "where $\\mathbb{P}(\\mathbf{x})$ is the *input distribution*, and $\\mathbb{P}(y|\\mathbf{x})$ is the *target distribution*."
   ]
  },
  {
   "cell_type": "markdown",
   "metadata": {},
   "source": [
    "### 3.2 Example\n",
    "\n",
    "Suppose $h, f$ are binary functions and we observe that the hypothesis, $h$, has a probability, $\\mu$, of making an error when approximating the target function, $f$.\n",
    "\n",
    "The input distribution arises from this observation and we can write this as:\n",
    "\n",
    "$$\\mathbb{P}(\\mathbf{x}) = \\left\\{ \\begin{array}{rl}\n",
    "    \\mu & h \\ne f(x)\\\\\n",
    "1 - \\mu & h = f(x)\n",
    "\\end{array}\\right.$$\n",
    "\n",
    "Suppose \"noise\" is added to $f$ in the following manner:\n",
    "\n",
    "$$\\mathbb{P}(y|\\mathbf{x}) = \\left\\{ \\begin{array}{rl}\n",
    "  \\lambda & y = f(x)\\\\\n",
    "1-\\lambda & y \\ne f(x)\n",
    "\\end{array}\\right.$$\n",
    "\n",
    "We now wish to calculate the probability of error that $h$ makes in approximating $y$.  There are two ways for this to happen: the first is for the top event of the two equations above to occur, the second is for the bottom event of the two equations above to occur.  The probability of error is therefore:\n",
    "\n",
    "$$\\mu \\lambda + \\left(1 - \\mu\\right)\\left(1 - \\lambda\\right)$$\n",
    "\n",
    "In the case of $\\lambda = \\frac{1}{2}$, the above expression becomes:\n",
    "\n",
    "$$\\tfrac{1}{2} \\mu + \\tfrac{1}{2} \\left(1 - \\mu\\right) = \\tfrac{1}{2}$$\n",
    "\n",
    "which is independent of $\\mu$."
   ]
  },
  {
   "cell_type": "markdown",
   "metadata": {},
   "source": [
    "## 4. Linear Regression\n",
    "\n",
    "### 4.1 Generating Sample Data\n",
    "\n",
    "#### 4.1.1 First, we generate a three-column random matrix with the first column as ones."
   ]
  },
  {
   "cell_type": "code",
   "execution_count": 7,
   "metadata": {
    "collapsed": true
   },
   "outputs": [],
   "source": [
    "def generate_data(n,seed=None):\n",
    "    if seed is not None:\n",
    "        np.random.seed(seed)\n",
    "    x0 = np.ones(n)\n",
    "    x1 = np.random.uniform(low=-1,high=1,size=(2,n))\n",
    "    return np.vstack((x0,x1)).T"
   ]
  },
  {
   "cell_type": "markdown",
   "metadata": {},
   "source": [
    "#### 4.1.2 Generating a random line inside the region of interest\n",
    "\n",
    "The region of interest is $\\mathcal{X}=\\left[-1,1\\right] \\times \\left[-1,1\\right]$,\n",
    "where $\\times$ denotes the [Cartesian Product](https://en.wikipedia.org/wiki/Cartesian_product).\n",
    "\n",
    "To ensure that the random line falls within the region of interest, two points, $(x_0,y_0)$ and $(x_1,y_1)$ are generated within $\\mathcal{X}$.\n",
    "\n",
    "#### 4.1.3 Equation of the random line in the slope-intercept form, $y = mx + c$\n",
    "\n",
    "$$\\text{Slope, }m = \\frac{y_1 - y_0}{x_1 - x_0}$$\n",
    "\n",
    "$$\\text{Intercept, }c = y_0 - m x_0$$\n",
    "\n",
    "#### 4.1.4 Equation of the random line in hypothesis [weights] form\n",
    "\n",
    "The hypothesis is given by:\n",
    "\n",
    "$$h(\\mathbf{x}) = \\text{sign}(\\mathbf{w^T x}) = \\text{sign}\\left(\\sum_{i=0}^N w_i x_i\\right)$$\n",
    "\n",
    "We now consider the two dimensional case ($N=2$), and note that $x_0=1$.  The decision boundary is $h(\\mathbf{x})$=0, which can be converted to the slope-intercept form if we take $x_1$ to be the $x$ axis, and $x_2$ to be the $y$ axis, i.e.:\n",
    "\n",
    "$$y = - \\frac{w_1}{w_2} x - \\frac{w_0}{w_2}$$\n",
    "\n",
    "Comparison with the equation $y = mx + c$ yields the following relationships:\n",
    "\n",
    "$$m = - \\frac{w_1}{w_2},\\quad c = - \\frac{w_0}{w_2}$$\n",
    "\n",
    "If we arbitrarily set $w_2=1$, we arrive at the following set of weights, which is consistent with the decision boundary denoted by $y = mx + c$:\n",
    "\n",
    "$$\\mathbf{w} = \\left(-c,-m,1\\right)$$"
   ]
  },
  {
   "cell_type": "code",
   "execution_count": 8,
   "metadata": {
    "collapsed": true
   },
   "outputs": [],
   "source": [
    "def get_random_line(seed=None):\n",
    "    X = generate_data(2,seed=seed)\n",
    "    x = X[:,1]\n",
    "    y = X[:,2]\n",
    "    m = (y[1]-y[0])/(x[1]-x[0])\n",
    "    c = y[0] - m*x[0]\n",
    "    return np.array([-c,-m,1])\n",
    "\n",
    "def draw_line(ax,w,marker='g--',label=None):\n",
    "    m = -w[1]/w[2]\n",
    "    c = -w[0]/w[2]\n",
    "    x = np.linspace(-1,1,20)\n",
    "    y = m*x + c\n",
    "    if label is None:\n",
    "        ax.plot(x,y,marker)\n",
    "    else:\n",
    "        ax.plot(x,y,marker,label=label)\n",
    "        \n",
    "def get_hypothesis(X,w):\n",
    "    return np.sign(np.dot(X,w))"
   ]
  },
  {
   "cell_type": "markdown",
   "metadata": {},
   "source": [
    "### 4.2 Plotting the Training Data\n",
    "\n",
    "The following code plots the training dataset"
   ]
  },
  {
   "cell_type": "code",
   "execution_count": 9,
   "metadata": {
    "collapsed": true
   },
   "outputs": [],
   "source": [
    "def plot_data(fig,plot_id,X,y=None,w_arr=None,my_x=None,title=None):\n",
    "    ax = fig.add_subplot(plot_id)\n",
    "    if y is None:\n",
    "        ax.plot(X[:,1],X[:,2],'gx')\n",
    "    else:\n",
    "        ax.plot(X[y > 0,1],X[y > 0,2],'b+',label='Positive (+)')\n",
    "        ax.plot(X[y < 0,1],X[y < 0,2],'ro',label='Negative (-)')\n",
    "    ax.set_xlim(-1,1)\n",
    "    ax.set_ylim(-1,1)\n",
    "    ax.grid(True)\n",
    "    if w_arr is not None:\n",
    "        if isinstance(w_arr,list) is not True:\n",
    "            w_arr=[w_arr]\n",
    "        for i,w in enumerate(w_arr):\n",
    "            if i==0:\n",
    "                draw_line(ax,w,'g-',label='Theoretical')\n",
    "            else:\n",
    "                draw_line(ax,w,'g--')\n",
    "    if my_x is not None:\n",
    "        ax.plot([my_x[0]],[my_x[1]],'kx',markersize=10)\n",
    "    if title is not None:\n",
    "        ax.set_title(title)\n",
    "    ax.legend(loc='best',frameon=True)"
   ]
  },
  {
   "cell_type": "markdown",
   "metadata": {},
   "source": [
    "### 4.3 Creating a Dataset with a Decision Boundary Fitted by Linear Regression\n",
    "\n",
    "The weights for the decision boundary may be calculated using [linear regression](https://en.wikipedia.org/wiki/Linear_regression) with an appropriate estimator.  We start with a \"cost function\", where in this case we choose the *in-sample* squared error, i.e.:\n",
    "\n",
    "$$E_{in}(h)=\\frac{1}{N}\\sum_{i=1}^N\n",
    "\\left(h(\\mathbf{x_i})-y_n\\right)^2$$\n",
    "$$E_{in}(\\mathbf{w})=\\frac{1}{N}\\sum_{i=1}^N\n",
    "\\left(\\mathbf{w^T x_i}-y_n\\right)^2 = \\frac{1}{N} \\| \\mathbf{Xw - y} \\|^2$$"
   ]
  },
  {
   "cell_type": "markdown",
   "metadata": {},
   "source": [
    "The in-sample error is minimized as follows:\n",
    "\n",
    "$$\\nabla E_{in}(\\mathbf{w}) = \\frac{2}{N}\\mathbf{X^T}\\left(\\mathbf{X w - y}\\right) = 0$$\n",
    "\n",
    "$$\\mathbf{X^T X w} = \\mathbf{X^T y}$$\n",
    "\n",
    "$$\\mathbf{w} = \\left(\\mathbf{X^T X}\\right)^{-1}\\mathbf{X^T y}$$"
   ]
  },
  {
   "cell_type": "markdown",
   "metadata": {},
   "source": [
    "We thus arrive at the following, which is also called the [ordinary least squares](https://en.wikipedia.org/wiki/Ordinary_least_squares) (OLS) estimator:\n",
    "\n",
    "$$w = \\left(\\mathbf{X^T X}\\right)^{-1}\\mathbf{X^T y} = \\mathbf{X^\\dagger}y$$\n",
    "\n",
    "where in the last step, we have introduced the [Moore–Penrose pseudoinverse](https://en.wikipedia.org/wiki/Moore–Penrose_pseudoinverse):\n",
    "\n",
    "$$\\mathbf{X^\\dagger} = \\left(\\mathbf{X^T X}\\right)^{-1}\\mathbf{X^T}$$\n",
    "\n",
    "This is implemented via the following line of code in the subroutine below:\n",
    "\n",
    "`w_linreg = np.dot(np.linalg.pinv(X),y)`"
   ]
  },
  {
   "cell_type": "code",
   "execution_count": 10,
   "metadata": {
    "collapsed": false,
    "scrolled": true
   },
   "outputs": [],
   "source": [
    "def create_dataset(N,make_plot=True,seed=None):\n",
    "    X = generate_data(N,seed=seed)\n",
    "    w_theoretical = get_random_line()\n",
    "    y = get_hypothesis(X,w_theoretical)\n",
    "    w_linreg = np.dot(np.linalg.pinv(X),y)\n",
    "    if make_plot is True:\n",
    "        fig = plt.figure(figsize=(7,5))\n",
    "        plot_data(fig,111,X,y,[w_theoretical,w_linreg],\n",
    "                  title=\"Initial Dataset\")\n",
    "    return X,y,w_theoretical,w_linreg"
   ]
  },
  {
   "cell_type": "markdown",
   "metadata": {},
   "source": [
    "### 4.4 Evaluating the Decision Boundary via the Misclassification Error\n",
    "\n",
    "If we know the theoretical decision boundary, `w_theoretical`, that 'knows' the correct classification of points, we can calculate the number of points misclassified by `w` (the weights calculated using linear regression) via a [Monte Carlo](https://en.wikipedia.org/wiki/Monte_Carlo_method) approach (random sampling)."
   ]
  },
  {
   "cell_type": "code",
   "execution_count": 11,
   "metadata": {
    "collapsed": true
   },
   "outputs": [],
   "source": [
    "def calculate_misclassification(w_theoretical,w,n_samples=1000,verbose=True):\n",
    "    X  = generate_data(n_samples,seed=None)\n",
    "    y0 = get_hypothesis(X,w_theoretical)\n",
    "    y  = get_hypothesis(X,w)\n",
    "    n_correct = np.sum(y == y0)\n",
    "    return (n_samples-n_correct)/n_samples"
   ]
  },
  {
   "cell_type": "markdown",
   "metadata": {},
   "source": [
    "### 4.5 Estimating the misclassification error by taking an average over many 'experiments'\n",
    "\n",
    "We choose $N$=100, and to do 1000 'experiments'."
   ]
  },
  {
   "cell_type": "code",
   "execution_count": 12,
   "metadata": {
    "collapsed": true
   },
   "outputs": [],
   "source": [
    "def misclassification_runs(N=100,n_expts=1000):\n",
    "    m_in_arr = list()\n",
    "    m_out_arr = list()\n",
    "    for i in range(n_expts):\n",
    "        w_theoretical = get_random_line()\n",
    "\n",
    "        X_in = generate_data(N,seed=None)\n",
    "        y_in = get_hypothesis(X_in,w_theoretical)\n",
    "        w_in = np.dot(np.linalg.pinv(X_in),y_in)\n",
    "        m_in = calculate_misclassification(w_theoretical,w_in,n_samples=1000)\n",
    "        \n",
    "        X_out = generate_data(N,seed=None)\n",
    "        y_out = get_hypothesis(X_out,w_theoretical)\n",
    "        w_out = np.dot(np.linalg.pinv(X_out),y_out)\n",
    "        m_out = calculate_misclassification(w_theoretical,w_out,n_samples=1000)\n",
    "\n",
    "        m_in_arr.append(m_in)\n",
    "        m_out_arr.append(m_in)\n",
    "    return m_in_arr,m_out_arr"
   ]
  },
  {
   "cell_type": "code",
   "execution_count": 13,
   "metadata": {
    "collapsed": false
   },
   "outputs": [
    {
     "name": "stdout",
     "output_type": "stream",
     "text": [
      "Misclassification error: 0.04859 (in-sample)\n",
      "Misclassification error: 0.04859 (out-of-sample)\n"
     ]
    }
   ],
   "source": [
    "# [0.0482, 0.04727, 0.04815, 0.04858, 0.04900, 0.04890]\n",
    "# [0.24319, 0.24848, 0.24765]\n",
    "m_in_arr,m_out_arr = misclassification_runs()\n",
    "print(\"Misclassification error: %.5f (in-sample)\" % np.mean(m_in_arr))\n",
    "print(\"Misclassification error: %.5f (out-of-sample)\" % np.mean(m_out_arr))"
   ]
  },
  {
   "cell_type": "markdown",
   "metadata": {},
   "source": [
    "The miclassiification error here is about ~5%.  Also, we find no difference in misclassification error between the in-sample and out-of-sample weights."
   ]
  },
  {
   "cell_type": "markdown",
   "metadata": {},
   "source": [
    "## 5. The Perceptron Learning Algorithm\n",
    "\n",
    "### 5.1 Implementation\n",
    "\n",
    "The Preceptron Learning Algorithm (PLA) is implemented in the following steps\n",
    "\n",
    "1. Calculate $h\\left(\\mathbf{x}\\right)=\\text{sign}\\left(\\mathbf{w^T x}\\right)$ which can take on values of -1, 0, or 1 for each sample.\n",
    "2. Compare $h\\left(\\mathbf{x}\\right)$ with $y$ to find misclassified point(s) if any.\n",
    "3. Pick one misclassified point at random.\n",
    "4. Iterate the weights according to the PLA: $w = w + y_n x_n$, where $y_n$ is the correct classification for the misclassified point, and $x_n$ is the misclassified point."
   ]
  },
  {
   "cell_type": "code",
   "execution_count": 14,
   "metadata": {
    "collapsed": false
   },
   "outputs": [],
   "source": [
    "def PLA(w,X,y0,n_iterations=10,verbose=True):\n",
    "    assert len(y0)==X.shape[0]\n",
    "    n=len(y0)\n",
    "    x_arr = list()\n",
    "    w_arr = list()\n",
    "    m_arr = list()\n",
    "    for i in range(n_iterations):\n",
    "        h   = get_hypothesis(X,w)\n",
    "        bad = h != y0\n",
    "        bad = np.argwhere(bad).flatten()\n",
    "        if len(bad) > 0:\n",
    "            idx  = np.random.choice(bad,1)[0]\n",
    "            my_x = X[idx,:]\n",
    "            m_arr.append(100.0*len(bad)/n)\n",
    "            x_arr.append(my_x)\n",
    "            w_arr.append(np.copy(w))\n",
    "            w += np.dot(y0[idx],my_x)\n",
    "            if verbose is True:\n",
    "                print(\"iter {}: {}% misclassified, w={}\" \\\n",
    "                      .format(i,m_arr[-1],w_arr[-1]))\n",
    "        else:\n",
    "            m_arr.append(0.0)\n",
    "            x_arr.append(np.array([1.0, np.nan,np.nan]))\n",
    "            w_arr.append(np.copy(w))\n",
    "            if verbose is True:\n",
    "                print(\"iter {}: zero misclassified (PLA has converged)\".format(i))\n",
    "            return w,w_arr,m_arr,x_arr\n",
    "    print(\"PLA failed to converge after {} iterations\".format(i))\n",
    "    return None,None,None,None"
   ]
  },
  {
   "cell_type": "markdown",
   "metadata": {},
   "source": [
    "### 5.2 Using the Linear Regression weights as an 'initial guess' for the PLA\n",
    "\n",
    "If the weights obtained from linear regression are used as an 'initial guess' for the Perceptron Learning Algorithm (PLA), we can reduce the average number of required iterations down to about 4~5, as the following code shows:"
   ]
  },
  {
   "cell_type": "code",
   "execution_count": 15,
   "metadata": {
    "collapsed": true
   },
   "outputs": [],
   "source": [
    "def get_iteration_distribution(N,n_trials=1000,max_iterations=10000,summary=True):\n",
    "    n_iterations=np.zeros(n_trials,dtype=int)\n",
    "    for i in range(n_trials):\n",
    "        X,y,w_theoretical,w_linreg = create_dataset(N=N,make_plot=False,seed=None)\n",
    "        w,w_arr,m_arr,x_arr = PLA(w_linreg,X,y,n_iterations=max_iterations,verbose=False)\n",
    "        n_iterations[i]=len(w_arr)\n",
    "        \n",
    "    if summary is True:\n",
    "        print(\"Minumum iterations: {}\".format(np.min(n_iterations)))\n",
    "        print(\"Maximum iterations: {}\".format(np.max(n_iterations)))\n",
    "        print(\"Mean    iterations: {}\".format(np.mean(n_iterations)))\n",
    "    return n_iterations"
   ]
  },
  {
   "cell_type": "code",
   "execution_count": 16,
   "metadata": {
    "collapsed": false,
    "scrolled": true
   },
   "outputs": [
    {
     "name": "stdout",
     "output_type": "stream",
     "text": [
      "Minumum iterations: 1\n",
      "Maximum iterations: 194\n",
      "Mean    iterations: 5.31\n"
     ]
    }
   ],
   "source": [
    "# [4.721, 5.88, 4.8, 5.31, 6.237]\n",
    "n_iterations = get_iteration_distribution(N=10)"
   ]
  },
  {
   "cell_type": "markdown",
   "metadata": {
    "collapsed": true
   },
   "source": [
    "## 6. Non-Linear Transformations\n",
    "\n",
    "### 6.1 Background\n",
    "Consider the target function, which we implement below:\n",
    "\n",
    "$$f(x_1,x_2) = \\text{sign}\\left(x_1^2 + x_2^2 - 0.6\\right)$$"
   ]
  },
  {
   "cell_type": "code",
   "execution_count": 17,
   "metadata": {
    "collapsed": true
   },
   "outputs": [],
   "source": [
    "def get_nonlinear_hypothesis(X):\n",
    "    h = X[:,1]**2 + X[:,2]**2 - 0.6\n",
    "    return np.sign(h).astype(int)"
   ]
  },
  {
   "cell_type": "markdown",
   "metadata": {},
   "source": [
    "A non-linear dataset based on the above target function, but with 10% of the samples 'flipped' in sign is generated via the code below.\n",
    "\n",
    "\n",
    "### 6.2 Misclassification Error (Linear Decision Boundary)\n",
    "\n",
    "We can see that, using a linear decision boundary, the misclassification error is high, about ~50%."
   ]
  },
  {
   "cell_type": "code",
   "execution_count": 18,
   "metadata": {
    "collapsed": false
   },
   "outputs": [],
   "source": [
    "def create_nonlinear_dataset(N=1000,make_plot=True,seed=None,verbose=False):\n",
    "    X  = generate_data(N,seed=seed)\n",
    "    y0 = get_nonlinear_hypothesis(X)\n",
    "    idx = np.random.choice(len(y0),100,replace=False)  # flip 100\n",
    "    y_flipped = np.copy(y0)                            # random\n",
    "    y_flipped[idx] = -y0[idx]                          # indices\n",
    "    w_linreg = np.dot(np.linalg.pinv(X),y_flipped)\n",
    "    y_linreg = get_hypothesis(X,w_linreg)\n",
    "    if verbose is True:\n",
    "        print(\"w (from linear regression) = {}\".format(w_linreg))\n",
    "        print(\"y (from linear regression) = {}\".format(y_linreg))\n",
    "    if make_plot is True:\n",
    "        fig = plt.figure(figsize=(7,5))\n",
    "        plot_data(fig,111,X,y_flipped,[np.array([10,-1,1]), w_linreg],\n",
    "                  title=\"Initial Dataset\")\n",
    "    return y_flipped,y_linreg"
   ]
  },
  {
   "cell_type": "code",
   "execution_count": 19,
   "metadata": {
    "collapsed": false,
    "scrolled": true
   },
   "outputs": [
    {
     "name": "stdout",
     "output_type": "stream",
     "text": [
      "w (from linear regression) = [ 0.0939  0.0293  0.014 ]\n",
      "y (from linear regression) = [ 1.  1.  1. ...,  1.  1.  1.]\n"
     ]
    },
    {
     "data": {
      "image/png": "[encoded data removed]",
      "text/plain": [
       "<matplotlib.figure.Figure at 0x10f0eba20>"
      ]
     },
     "metadata": {},
     "output_type": "display_data"
    }
   ],
   "source": [
    "y0,y_linreg = create_nonlinear_dataset(verbose=True)"
   ]
  },
  {
   "cell_type": "code",
   "execution_count": 20,
   "metadata": {
    "collapsed": true
   },
   "outputs": [],
   "source": [
    "def run_trials_nonlinear(N=1000,n_trials=1000,verbose=True):\n",
    "    m_arr = list()\n",
    "    for i in range(n_trials):\n",
    "        y0,y = create_nonlinear_dataset(N=N,make_plot=False,seed=None)\n",
    "        n_correct = np.sum(y == y0)\n",
    "        m_arr.append((N-n_correct)/N)\n",
    "    if verbose is True:\n",
    "        print(\"Minimum misclassification= {}\".format(np.min(m_arr)))\n",
    "        print(\"Maximum misclassification= {}\".format(np.max(m_arr)))\n",
    "        print(\"Average misclassification= {}\".format(np.mean(m_arr)))\n",
    "    return m_arr"
   ]
  },
  {
   "cell_type": "code",
   "execution_count": 21,
   "metadata": {
    "collapsed": false,
    "scrolled": true
   },
   "outputs": [
    {
     "name": "stdout",
     "output_type": "stream",
     "text": [
      "Minimum misclassification= 0.383\n",
      "Maximum misclassification= 0.605\n",
      "Average misclassification= 0.50277\n"
     ]
    }
   ],
   "source": [
    "m_arr = run_trials_nonlinear()"
   ]
  },
  {
   "cell_type": "markdown",
   "metadata": {},
   "source": [
    "### 6.3 Misclassification Error (Nonlinear Decision Boundary)\n",
    "\n",
    "By changing to a nonlinear decision boundary, the misclassification error can be considerably reduced.  The original dataset, $(x_1, x_2)$ is replaced by a new dataset, $(x_1, x_2, x_3, x_4, x_5) = (x_1, x_2, x_1 x_2, x_1^2, x_2^2)$, where we have added the last 3 columns via nonlinear transformations on the original data."
   ]
  },
  {
   "cell_type": "code",
   "execution_count": 22,
   "metadata": {
    "collapsed": true
   },
   "outputs": [],
   "source": [
    "def add_nonlinear_features(X):\n",
    "    N = X.shape[0]\n",
    "    X = np.hstack((X,np.zeros((N,3))))\n",
    "    X[:,3] = X[:,1]*X[:,2]\n",
    "    X[:,4] = X[:,1]**2\n",
    "    X[:,5] = X[:,2]**2\n",
    "    return(X)"
   ]
  },
  {
   "cell_type": "code",
   "execution_count": 23,
   "metadata": {
    "collapsed": true
   },
   "outputs": [],
   "source": [
    "def create_nonlinear_dataset_v2(N=1000,make_plot=True,seed=None,verbose=False):\n",
    "    X  = generate_data(N,seed=seed)\n",
    "    y0 = get_nonlinear_hypothesis(X)\n",
    "    idx = np.random.choice(len(y0),100,replace=False)  # flip 100\n",
    "    y_flipped = np.copy(y0)                            # random\n",
    "    y_flipped[idx] = -y0[idx]                          # indices\n",
    "\n",
    "    X  = add_nonlinear_features(X)\n",
    "    w_linreg = np.dot(np.linalg.pinv(X),y_flipped)\n",
    "    y_linreg = get_hypothesis(X,w_linreg)\n",
    "    if verbose is True:\n",
    "        print(\"w (from linear regression) = {}\".format(w_linreg))\n",
    "        print(\"y (from linear regression) = {}\".format(y_linreg))\n",
    "    if make_plot is True:\n",
    "        fig = plt.figure(figsize=(7,5))\n",
    "        plot_data(fig,111,X,y_flipped,title=\"Initial Dataset\")\n",
    "    return y_flipped,y_linreg,X"
   ]
  },
  {
   "cell_type": "code",
   "execution_count": 24,
   "metadata": {
    "collapsed": true
   },
   "outputs": [],
   "source": [
    "def plot_data_nonlinear(fig,plot_id,X,y=None,w_arr=None,w_colors=None,title=None):\n",
    "    p = 1.5\n",
    "    ax = fig.add_subplot(plot_id)\n",
    "    if y is None:\n",
    "        ax.plot(X[:,1],X[:,2],'gx')\n",
    "    else:\n",
    "        ax.plot(X[y > 0,1],X[y > 0,2],'b+',label='Positive (+)')\n",
    "        ax.plot(X[y < 0,1],X[y < 0,2],'r_',label='Negative (-)')\n",
    "    ax.set_xlim(-p,p)\n",
    "    ax.set_ylim(-p,p)\n",
    "    ax.grid(True)\n",
    "    if w_arr is not None and w_colors is not None:\n",
    "        if isinstance(w_arr,list) is not True:\n",
    "            w_arr=[w_arr]\n",
    "        x1 = np.linspace(-p,p,100)\n",
    "        x2 = np.linspace(-p,p,100)\n",
    "        X1,X2 = np.meshgrid(x1,x2)\n",
    "        X1X2 = X1*X2\n",
    "        X1_sq= X1**2\n",
    "        X2_sq= X2**2\n",
    "        labels = ['(a)','(b)','(c)','(d)','(e)']\n",
    "        for i,w in enumerate(w_arr):\n",
    "            Y = w[0] + w[1]*X1 + w[2]*X2 + w[3]*X1X2 + \\\n",
    "                w[4]*X1_sq + w[5]*X2_sq\n",
    "            cp = ax.contour(X1,X2,Y,1,linewidth=4, levels=[0.0],\n",
    "                             linestyles='dashed', colors=w_colors[i], \n",
    "                             label=labels[i])\n",
    "            ax.clabel(cp, inline=True, fontsize=14)\n",
    "    if title is not None:\n",
    "        ax.set_title(title)\n",
    "    ax.legend(loc='best',frameon=True)"
   ]
  },
  {
   "cell_type": "code",
   "execution_count": 25,
   "metadata": {
    "collapsed": false
   },
   "outputs": [
    {
     "name": "stdout",
     "output_type": "stream",
     "text": [
      "0.133\n"
     ]
    }
   ],
   "source": [
    "N = 1000\n",
    "y0,y,X = create_nonlinear_dataset_v2(N=N,make_plot=False,seed=None)\n",
    "n_correct = np.sum(y == y0)\n",
    "m = (N-n_correct)/N\n",
    "print(m)"
   ]
  },
  {
   "cell_type": "markdown",
   "metadata": {},
   "source": [
    "By using a nonlinear decision boundary, the misclassification error has gone down to about ~12%."
   ]
  },
  {
   "cell_type": "code",
   "execution_count": 26,
   "metadata": {
    "collapsed": true
   },
   "outputs": [],
   "source": [
    "def get_nonlinear_misclass(n_trials=1000,verbose=True):\n",
    "    m_arr = list()\n",
    "    for i in range(n_trials):\n",
    "        y0,y,X = create_nonlinear_dataset_v2(N=N,make_plot=False,seed=None)\n",
    "        n_correct = np.sum(y == y0)\n",
    "        m_arr.append((N-n_correct)/N)\n",
    "    if verbose is True:\n",
    "        print(\"Minimum misclassification= {}\".format(np.min(m_arr)))\n",
    "        print(\"Maximum misclassification= {}\".format(np.max(m_arr)))\n",
    "        print(\"Average misclassification= {}\".format(np.mean(m_arr)))        \n",
    "    return m_arr"
   ]
  },
  {
   "cell_type": "code",
   "execution_count": 27,
   "metadata": {
    "collapsed": false,
    "scrolled": true
   },
   "outputs": [
    {
     "name": "stdout",
     "output_type": "stream",
     "text": [
      "Minimum misclassification= 0.102\n",
      "Maximum misclassification= 0.159\n",
      "Average misclassification= 0.12403\n"
     ]
    }
   ],
   "source": [
    "m_arr = get_nonlinear_misclass()"
   ]
  },
  {
   "cell_type": "markdown",
   "metadata": {},
   "source": [
    "With repeated trials of 1000 Monte-Carlo simulations, the misclassification error remains at roughly ~12%.  A histogram shows the probability distribution of the misclassification error."
   ]
  },
  {
   "cell_type": "code",
   "execution_count": 28,
   "metadata": {
    "collapsed": false
   },
   "outputs": [
    {
     "data": {
      "image/png": "[encoded data removed]",
      "text/plain": [
       "<matplotlib.figure.Figure at 0x113046da0>"
      ]
     },
     "metadata": {},
     "output_type": "display_data"
    }
   ],
   "source": [
    "_ = plt.hist(m_arr,bins=20)"
   ]
  },
  {
   "cell_type": "markdown",
   "metadata": {},
   "source": [
    "### 6.4 Evaluation of 5 Possible Hypotheses\n",
    "\n",
    "Here, we introduce 5 possible hypotheses (via their 'weights') to test their misclassification error."
   ]
  },
  {
   "cell_type": "code",
   "execution_count": 29,
   "metadata": {
    "collapsed": true
   },
   "outputs": [],
   "source": [
    "w1 = np.array([-1,-0.05,0.08,0.13,1.50,1.5])\n",
    "w2 = np.array([-1,-0.05,0.08,0.13,1.50,15.0])\n",
    "w3 = np.array([-1,-0.05,0.08,0.13,15.0,1.5])\n",
    "w4 = np.array([-1,-1.50,0.08,0.13,0.05,0.05])\n",
    "w5 = np.array([-1,-0.05,0.08,0.13,0.15,0.15])\n",
    "w_arr = [w1,w2,w3,w4,w5]\n",
    "w_colors = ['red','orange','green','blue','pink']"
   ]
  },
  {
   "cell_type": "markdown",
   "metadata": {},
   "source": [
    "Apparently, there is little necessity to perform a Monte-Carlo simulation to calculate their misclassification error.  A contour plot of the above 5 weights (decision boundary at 'zero' plotted as dotted lines) clearly shows that red line ($w_1$) as the best performing hypothesis."
   ]
  },
  {
   "cell_type": "code",
   "execution_count": 30,
   "metadata": {
    "collapsed": false
   },
   "outputs": [
    {
     "data": {
      "image/png": "[encoded data removed]",
      "text/plain": [
       "<matplotlib.figure.Figure at 0x103466780>"
      ]
     },
     "metadata": {},
     "output_type": "display_data"
    }
   ],
   "source": [
    "fig = plt.figure(figsize=(10,7))\n",
    "plot_data_nonlinear(fig,111,X,y0,w_arr,w_colors,\"Nonlinear Decision Boundaries\")"
   ]
  },
  {
   "cell_type": "code",
   "execution_count": null,
   "metadata": {
    "collapsed": true
   },
   "outputs": [],
   "source": []
  }
 ],
 "metadata": {
  "kernelspec": {
   "display_name": "Python 3",
   "language": "python",
   "name": "python3"
  },
  "language_info": {
   "codemirror_mode": {
    "name": "ipython",
    "version": 3
   },
   "file_extension": ".py",
   "mimetype": "text/x-python",
   "name": "python",
   "nbconvert_exporter": "python",
   "pygments_lexer": "ipython3",
   "version": "3.5.1"
  }
 },
 "nbformat": 4,
 "nbformat_minor": 0
}
