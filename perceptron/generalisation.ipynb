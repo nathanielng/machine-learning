{
 "cells": [
  {
   "cell_type": "markdown",
   "metadata": {},
   "source": [
    "# Generalization Errors"
   ]
  },
  {
   "cell_type": "markdown",
   "metadata": {},
   "source": [
    "## 1. Introduction\n",
    "\n",
    "### 1.1 Hoeffding's Inequality for a Single Bin\n",
    "\n",
    "Suppose we are able to take a sample of size $N$, from an infinite bin, in an attempt to determine the bin frequency, $\\mu$, which is unknown.  [**Hoeffding's Inequality**](https://en.wikipedia.org/wiki/Hoeffding%27s_inequality) allows us to calculate a probability bound between a sample frequency, $\\nu$, and the unknown bin frequency, $\\mu$.  This is given by:\n",
    "\n",
    "$$\\mathbb{P} \\left[ \\left| \\nu - \\mu \\right| > \\epsilon \\right] \\le 2e^{-2\\epsilon^2 N}$$\n",
    "\n",
    "This is valid for all $N$ and $\\epsilon$ and the bound does not depend on $\\mu$.  It shows how $\\nu$ **generalizes** to $\\mu$ for a *single hypothesis*.  It also illustrates the tradeoff between $N, \\epsilon$, and the bound."
   ]
  },
  {
   "cell_type": "markdown",
   "metadata": {},
   "source": [
    "### 1.2 Hoeffding's Inequality for Multiple Bins\n",
    "\n",
    "In practice, however, the *multiple hypothesis* case is what we are really interested in.  Hoeffding's Inequality can be generalised to the case of multiple bins (and therefore multiple hypotheses).  Using the approach of the 'union bound', the probability bounds for the multiple bin case can be shown to be:\n",
    "\n",
    "$$\\mathbb{P} \\left[ \\left| E_{in}(h) - E_{out}(h) \\right| > \\epsilon \\right] \\le 2Me^{-2\\epsilon^2 N}$$\n",
    "\n",
    "where $E_{in}(h) = \\nu$ and $E_{out}(h) = \\mu$, and $M$ is the number of bins.\n",
    "\n",
    "This result is useful when we have a finite number of bins, but this is not the case when $M \\rightarrow \\infty$, i.e. we have an infinite number of hypothesis sets, as in cases such as linear regression.  There is a way to deal with this problem by finding a tighter bound on the probability, via the Vapnik Chervonenkis inequality."
   ]
  },
  {
   "cell_type": "markdown",
   "metadata": {},
   "source": [
    "### 1.3 The Vapnik-Chervonenkis Inequality\n",
    "\n",
    "The [Vapnik-Chervonenkis (VC) Inequality](https://en.wikipedia.org/wiki/Vapnik–Chervonenkis_theory#VC_Inequality), addresses the issue of \"infinite hypothesis sets\" in the multiple bin Hoeffding's Inequality by removing $M$, and introducing a [growth function](http://www.cs.nyu.edu/~mohri/mls/lecture_3.pdf), $m_\\mathcal{H}(N)$.  The growth function counts the *most* number of dichotomies on any $N$ points, and can be written as:\n",
    "\n",
    "$$m_\\mathcal{H}(N) = \\underset{\\mathbf{x_1,\\dots,x_N} \\in \\mathcal{X}}{\\max} \\left| \\mathcal{H}\\left(\\mathbf{x_1,\\dots,x_N}\\right)\\right|$$\n",
    "\n",
    "The growth function satisfies:\n",
    "\n",
    "$$m_\\mathcal{H}(N) \\le 2^N$$"
   ]
  },
  {
   "cell_type": "markdown",
   "metadata": {},
   "source": [
    "In practice, however, the inequality, $m_\\mathcal{H}(N) \\le 2^N$ on the growth function may sometimes be too pessimistic.  A possible situation that we might see could look like the following:\n",
    "\n",
    "* $m_\\mathcal{H}(N) = 2^N, N < k$\n",
    "* $m_\\mathcal{H}(N) < 2^N, N \\ge k$\n",
    "\n",
    "In the first scenario, we say that the $N$ points are fully [shattered](https://en.wikipedia.org/wiki/Shattered_set) by $\\mathcal{H}$.  In the second scenario, we say $k$ is a **break point** for $\\mathcal{H}$ because no dataset of size $k$ can be 'shattered' by $\\mathcal{H}$."
   ]
  },
  {
   "cell_type": "markdown",
   "metadata": {},
   "source": [
    "Now if a break point, $k$, exists, it can be shown that the growth function is polynomial (rather than the exponential $m_\\mathcal{H}(N) = 2^N$), and satisfies the following inequality:\n",
    "\n",
    "$$m_\\mathcal{H}(N) \\le B(N,k) \\le \\sum\\limits_{i=0}^{k-1} \\left(\\begin{array}{c} N \\\\ i \\end{array}\\right)$$\n",
    "\n",
    "$$m_\\mathcal{H}(N) \\le B(N,k) \\le \\sum\\limits_{i=0}^{d_{VC}} \\left(\\begin{array}{c} N \\\\ i \\end{array}\\right)$$\n",
    "\n",
    "which is a polynomial with a maximum power of $N^{d_{VC}}$ where $d_{VC}$ is the [VC dimension](https://en.wikipedia.org/wiki/VC_dimension).\n",
    "\n",
    "The removal of the quantity, $M$ (which was introduced via the union bound approach), means that the issue where $M \\rightarrow \\infty$ (infinite hypothesis sets) is no longer relevant.  When the growth function is introduced, we arrive at the **VC inequality** given by (proof of the VC inequality is available [here](https://www.csie.ntu.edu.tw/~htlin/course/ml08fall/doc/vc_proof.pdf)):\n",
    "\n",
    "$$\\mathbb{P}\\left[ \\left| E_{in}(g) - E_{out}(g) \\right| > \\epsilon \\right] \\le 4 m_\\mathcal{H}(2N) \\exp\\left(-\\frac{1}{8}\\epsilon^2 N\\right)$$\n",
    "\n",
    "**This is the most important theoretical result in machine learning**."
   ]
  },
  {
   "cell_type": "markdown",
   "metadata": {},
   "source": [
    "## 2. [Vapnik–Chervonenkis (VC) Theory](https://en.wikipedia.org/wiki/Vapnik–Chervonenkis_theory) by [Vladimir Naumovich Vapnik](https://en.wikipedia.org/wiki/Vladimir_Vapnik) and [Alexey Chervonenkis](https://en.wikipedia.org/wiki/Alexey_Chervonenkis)\n",
    "\n",
    "### 2.1 Introduction\n",
    "\n",
    "#### 2.1.1 Definition of the VC Dimension\n",
    "\n",
    "* The [VC dimension](https://en.wikipedia.org/wiki/VC_dimension), of a hypothesis set, $\\mathcal{H}$, is the largest number of points, $N$, that can be fully [shattered](https://en.wikipedia.org/wiki/Shattered_set) by $\\mathcal{H}$.\n",
    "A hypothesis set, $\\mathcal{H}$ [of a binary function] is shattered when $m_\\mathcal{H}(N) = 2^N$, so this [can be written](http://www.cs.nyu.edu/~mohri/mls/lecture_3.pdf) [mathematically as](http://math.stackexchange.com/questions/640907/vapnik-chervonenkis-theory-growth-function):\n",
    "\n",
    "$$d_{VC}(\\mathcal{H}) = \\max\\left\\{ N: m_\\mathcal{H}(N) = 2^N \\right\\}$$\n",
    "\n",
    "In other words,\n",
    "\n",
    "* anything above the VC dimension is a break point\n",
    "\n",
    "$$k > d_{VC}(\\mathcal{H}) \\rightarrow k \\text{ is a break point for }\\mathcal{H}$$\n",
    "\n",
    "* anything below the VC dimension, you can shatter\n",
    "\n",
    "$$N \\le d_{VC}(\\mathcal{H}) \\rightarrow \\mathcal{H} \\text{ can shatter } N \\text{ points}$$\n",
    "\n",
    "#### 2.1.2 Generalisation\n",
    "\n",
    "If we know that the VC dimension *is finite*, then we can say that we can generalize (i.e. $g \\in \\mathcal{H}$ will generalize).  This result is:\n",
    "\n",
    "* independent of the **learning algorithm**\n",
    "* independent of the **input distribution**\n",
    "* independent of the **target function**"
   ]
  },
  {
   "cell_type": "markdown",
   "metadata": {},
   "source": [
    "### 2.2 Probability Bounds from the VC Inequality - how many points are required?\n",
    "\n",
    "Let us introduce a probability, $\\delta$, given by:\n",
    "\n",
    "$$\\delta = 4m_\\mathcal{H}(2N)\\exp\\left(-\\frac{1}{8}\\epsilon^2 N\\right)$$\n",
    "\n",
    "As we saw earlier, the growth function, $m_\\mathcal{H}(N)$, is a polynomial with a maximum power of $N^{d_{VC}}$.  To better understand how the probability bounds behave, it helps to make the following approximation $m_\\mathcal{H}(N) \\approx N^{d_{VC}}$.  We thus have:\n",
    "\n",
    "$$\\delta \\approx 4 (2N)^{d_{VC}}\\exp\\left(-\\frac{1}{8}\\epsilon^2 N\\right)$$\n",
    "\n",
    "In the case of large $N$, the term $(2N)^{d_{VC}}$ can become quite large, while on the other hand, the exponential term could become very small.  Hence, for numerics, we choose to calculate $\\delta$ via its logarithm, i.e.:\n",
    "\n",
    "$$\\ln \\delta \\approx \\ln 4 + d_{VC} \\ln (2N) -\\frac{1}{8}\\epsilon^2 N$$\n",
    "\n",
    "This is implemented in the functions below"
   ]
  },
  {
   "cell_type": "code",
   "execution_count": 1,
   "metadata": {
    "collapsed": true
   },
   "outputs": [],
   "source": [
    "using PyPlot\n",
    "using Optim"
   ]
  },
  {
   "cell_type": "code",
   "execution_count": 2,
   "metadata": {
    "collapsed": false,
    "scrolled": true
   },
   "outputs": [],
   "source": [
    "function get_ln_delta(N, d_VC, epsilon)\n",
    "    return log(4) + d_VC * log(2N) -(epsilon^2)*N/8\n",
    "end;"
   ]
  },
  {
   "cell_type": "markdown",
   "metadata": {},
   "source": [
    "Now lets put some numbers in and see how the probability behaves.  Consider a hypothesis, $\\mathcal{H}$, with $d_{VC} = 10$.  Suppose that we need a generalization error that is at most 0.05 (i.e. $\\epsilon = 0.05$), and we need to know this with 95% confidence (i.e. $\\delta = 0.05$).  In such a case, how many data points, $N$, will we need?\n",
    "\n",
    "There are two ways to solve this--one way is to try out a few values of $N$ and see which corresponds to the preferred value of $\\delta$, i.e.:"
   ]
  },
  {
   "cell_type": "code",
   "execution_count": 3,
   "metadata": {
    "collapsed": false,
    "scrolled": false
   },
   "outputs": [
    {
     "name": "stdout",
     "output_type": "stream",
     "text": [
      "N = 400000.0, delta = 221896.0765541779\n",
      "N = 420000.0, delta = 697.7536261452838\n",
      "N = 440000.0, delta = 2.1448427199601694\n",
      "N = 460000.0, delta = 0.00645812566110365\n",
      "N = 480000.0, delta = 1.9080951877323132e-5\n"
     ]
    }
   ],
   "source": [
    "d_VC = 10;\n",
    "epsilon = 0.05;\n",
    "N_arr = [400000. 420000. 440000. 460000. 480000.];\n",
    "for N in N_arr\n",
    "    delta = exp(get_ln_delta(N, d_VC, epsilon));\n",
    "    println(\"N = $N, delta = $delta\")\n",
    "end"
   ]
  },
  {
   "cell_type": "markdown",
   "metadata": {},
   "source": [
    "A more general approach, however, would be to solve for $N$.  First, an 'error function' needs to be defined (we choose the squared error), and the `optimize` function in Julia will optimize $N$ to the value that minimizes the 'error function' that we just specified, i.e."
   ]
  },
  {
   "cell_type": "code",
   "execution_count": 4,
   "metadata": {
    "collapsed": false,
    "scrolled": true
   },
   "outputs": [
    {
     "data": {
      "text/plain": [
       "Results of Optimization Algorithm\n",
       " * Algorithm: Brent's Method\n",
       " * Search Interval: [400000.000000, 500000.000000]\n",
       " * Minimizer: 4.529569e+05\n",
       " * Minimum: 6.164952e-17\n",
       " * Iterations: 16\n",
       " * Convergence: max(|x - x_upper|, |x - x_lower|) <= 2*(1.5e-08*|x|+2.2e-16): true\n",
       " * Objective Function Calls: 17"
      ]
     },
     "execution_count": 4,
     "metadata": {},
     "output_type": "execute_result"
    }
   ],
   "source": [
    "function get_error(N, d_VC, epsilon, target_delta)\n",
    "    delta = exp(get_ln_delta(N, d_VC, epsilon));\n",
    "    return (delta - target_delta)^2;\n",
    "end;\n",
    "\n",
    "result = optimize(N -> get_error(N, 10, 0.05, 0.05), 400000, 500000)"
   ]
  },
  {
   "cell_type": "code",
   "execution_count": 5,
   "metadata": {
    "collapsed": false,
    "scrolled": true
   },
   "outputs": [
    {
     "name": "stdout",
     "output_type": "stream",
     "text": [
      "Solution:  N = 452956.8652638088  (error = 6.164951888794791e-17)\n"
     ]
    }
   ],
   "source": [
    "N = result.minimum;\n",
    "err = result.f_minimum;\n",
    "if result.converged == true\n",
    "    println(\"Solution:  N = $N  (error = $err)\")\n",
    "end"
   ]
  },
  {
   "cell_type": "markdown",
   "metadata": {},
   "source": [
    "### 2.3 Generalization Bounds & Tracking Errors\n",
    "\n",
    "#### 2.3.1 Calculating the Tracking Error by Inverting the Probability Bounds\n",
    "\n",
    "The probability, $\\delta$ can be inverted to find the \"level of tracking\" (or tolerance), $\\epsilon$:\n",
    "\n",
    "$$\\delta = 4 m_\\mathcal{H}(2N) \\exp\\left(-\\frac{1}{8}\\epsilon^2 N\\right)$$\n",
    "\n",
    "$$\\ln \\frac{\\delta}{4 m_\\mathcal{H}(2N)} = -\\frac{1}{8}\\epsilon^2 N$$\n",
    "\n",
    "$$\\epsilon = \\underbrace{\\sqrt{\\frac{8}{N} \\ln \\frac{4 m_\\mathcal{H}(2N)}{\\delta}}}_{\\Omega}$$\n",
    "\n",
    "The \"good event\", which happens with a probability greater or equal to $1-\\delta$, is that $E_{in}$ tracks $E_{out}$:\n",
    "\n",
    "$$\\left|E_{out} - E_{in}\\right| \\le \\Omega\\left(N, \\mathcal{H}, \\delta\\right)$$\n",
    "\n",
    "We can also say with the same probability (note that generally, $E_{in}$ will be smaller than $E_{out}$, i.e. the in-sample error tends to be smaller than the out-of-sample error):\n",
    "\n",
    "$$ E_{out} - E_{in} \\le \\Omega\\left(N, \\mathcal{H}, \\delta\\right)$$\n",
    "\n",
    "$$ E_{out} \\le E_{in} + \\Omega$$\n",
    "\n",
    "Here, $E_{out} - E_{in}$ can be viewed as a generalization error.  The tradeoff here is that with a bigger hypothesis set (i.e. more parameters), $E_{in}$ will decrease, but $\\Omega$ (the generalization error) will increase.  There is a way to find the \"optimum\" tradeoff, which is a technique called \"regularization\"."
   ]
  },
  {
   "cell_type": "markdown",
   "metadata": {
    "collapsed": true
   },
   "source": [
    "#### 2.3.2 Which one is the tightest bound?\n",
    "\n",
    "We may wish to compare the original VC bounds to other bounds:\n",
    "\n",
    "* Original VC Bound: $\\epsilon \\le \\sqrt{\\frac{8}{N} \\ln \\frac{4 m_\\mathcal{H}(2N)}{\\delta}}$\n",
    "* Rademacher Penalty Bound: $\\epsilon \\le \\sqrt{\\frac{2\\ln(2Nm_\\mathcal{H}(N))}{N}} + \\sqrt{\\frac{2}{N} \\ln \\frac{1}{\\delta}} + \\frac{1}{N}$\n",
    "* Parrondo and Van den Broek: $\\epsilon \\le \\sqrt{\\frac{1}{N}\\left(2\\epsilon + \\ln\\frac{6m_\\mathcal{H}(2N)}{\\delta}\\right)}$\n",
    "* Devroye: $\\epsilon \\le \\sqrt{\\frac{1}{2N}\\left[4\\epsilon\\left(1+\\epsilon\\right) + \\ln\\frac{4m_\\mathcal{H}(N^2)}{\\delta}\\right]}$\n",
    "\n",
    "Using the approximation, $m_\\mathcal{H}(N) \\approx N^{d_{VC}}$, and splitting the logarithmic terms for numerics, we have:\n",
    "\n",
    "* Original VC Bound: $\\epsilon \\le \\sqrt{\\frac{8}{N} \\left[ \\ln 4 + v_{DC}\\ln (2N) - \\ln \\delta\\right] }$\n",
    "* Rademacher Penalty Bound: $\\epsilon \\le \\sqrt{\\frac{2 \\left(\\ln (2N) + v_{DC}\\ln(N) \\right)}{N}} + \\sqrt{- \\frac{2}{N} \\ln \\delta} + \\frac{1}{N}$\n",
    "* Parrondo and Van den Broek: $\\epsilon \\le \\sqrt{\\frac{1}{N}\\left(2\\epsilon + \\ln 6 + v_{DC} \\ln(2N) - \\ln\\delta\\right)}$\n",
    "* Devroye: $\\epsilon \\le \\sqrt{\\frac{1}{2N}\\left[4\\epsilon\\left(1+\\epsilon\\right) + \\ln4 + v_{DC} \\ln (N^2) - \\ln\\delta\\right]}$"
   ]
  },
  {
   "cell_type": "code",
   "execution_count": 6,
   "metadata": {
    "collapsed": false
   },
   "outputs": [],
   "source": [
    "function get_vc_bound(N,d_VC,delta)\n",
    "    inner = log(4) + d_VC * log(2N) - log(delta);\n",
    "    return sqrt(8inner/N);\n",
    "end;\n",
    "\n",
    "function get_rademacher_penalty(N,d_VC,delta)\n",
    "    inner = 2(log(2N) + d_VC * log(N))/N\n",
    "    return sqrt(inner) + sqrt(-2log(delta)/N) + 1/N;\n",
    "end;\n",
    "\n",
    "function get_parrondo_and_van_den_broek(N,d_VC,delta)\n",
    "    pvdb_err(epsilon,N,d_VC,delta) = (epsilon - sqrt((2epsilon + log(6) + d_VC*log(2N) - log(delta))/N))^2;\n",
    "    result = optimize(epsilon -> pvdb_err(epsilon,N,d_VC,delta), 0.0, 10.0);\n",
    "    if result.converged==true\n",
    "        return result.minimum\n",
    "    else\n",
    "        return NaN\n",
    "    end;\n",
    "end;\n",
    "\n",
    "function get_devroye(N,d_VC,delta)\n",
    "    devroye_err(epsilon,N,d_VC,delta) = (epsilon - sqrt((4epsilon*(1+epsilon) + log(4) + d_VC*log(N^2) - log(delta))/(2N)))^2;\n",
    "    result = optimize(epsilon -> devroye_err(epsilon,N,d_VC,delta), 0.0, 20.0);\n",
    "    if result.converged==true\n",
    "        return result.minimum\n",
    "    else\n",
    "        return NaN\n",
    "    end;\n",
    "end;"
   ]
  },
  {
   "cell_type": "code",
   "execution_count": 7,
   "metadata": {
    "collapsed": true
   },
   "outputs": [],
   "source": [
    "d_VC = 50;\n",
    "delta = 0.05;"
   ]
  },
  {
   "cell_type": "code",
   "execution_count": 8,
   "metadata": {
    "collapsed": false
   },
   "outputs": [],
   "source": [
    "#N_arr = logspace(0,4,11);  #from 1 to 10k\n",
    "N_arr = [5, 10, 50, 100, 500, 1000, 5000, 10000];\n",
    "epsilon_vc = [ get_vc_bound(N,d_VC,delta) for N in N_arr ];\n",
    "epsilon_rp = [ get_rademacher_penalty(N,d_VC,delta) for N in N_arr ];\n",
    "epsilon_pv = [ get_parrondo_and_van_den_broek(N,d_VC,delta) for N in N_arr ];\n",
    "epsilon_dv = [ get_devroye(N,d_VC,delta) for N in N_arr ];"
   ]
  },
  {
   "cell_type": "code",
   "execution_count": 9,
   "metadata": {
    "collapsed": false
   },
   "outputs": [],
   "source": [
    "function plot_epsilons(N_arr,epsilon_arr,label_arr)\n",
    "    fig = figure(figsize=(7,4))\n",
    "    ax = fig[:add_subplot](1,1,1)\n",
    "    for i in 1:size(label_arr)[1]\n",
    "        #ax[:loglog](N_arr,epsilon_arr[:,i],label=label_arr[i]);\n",
    "        loglog(N_arr,epsilon_arr[:,i],\"x-\",label=label_arr[i]);\n",
    "    end;\n",
    "    #ax[:legend](loc=\"best\",frameon=false);\n",
    "    legend(loc=\"best\",frameon=false,fontsize=10)\n",
    "    grid(true);\n",
    "end;"
   ]
  },
  {
   "cell_type": "code",
   "execution_count": 10,
   "metadata": {
    "collapsed": false,
    "scrolled": false
   },
   "outputs": [
    {
     "data": {
      "image/png": "[encoded data removed]",
      "text/plain": [
       "PyPlot.Figure(PyObject <matplotlib.figure.Figure object at 0x326676610>)"
      ]
     },
     "metadata": {},
     "output_type": "display_data"
    }
   ],
   "source": [
    "epsilon_arr = [ epsilon_vc epsilon_rp epsilon_pv epsilon_dv ];\n",
    "label_arr = [ \"VC\", \"Rademacher\", \"Parrondo & Van den Broek\", \"Devroye\" ];\n",
    "plot_epsilons(N_arr,epsilon_arr,label_arr);"
   ]
  },
  {
   "cell_type": "markdown",
   "metadata": {},
   "source": [
    "What we are seeing here is that all of these bounds follow roughly the same kind of trends.  And while it is possible to improve on the VC bound, the maximum improvement here is an improvement by a factor of about 2.5 ~ 3.  For example, we could do a comparison for small $N$ and large $N$ as follows:\n",
    "\n",
    "Comparison of Bounds for large $N$ = 10,000"
   ]
  },
  {
   "cell_type": "code",
   "execution_count": 11,
   "metadata": {
    "collapsed": false,
    "scrolled": true
   },
   "outputs": [
    {
     "name": "stdout",
     "output_type": "stream",
     "text": [
      "N = 10000\n",
      "ϵ (VC)                       = 0.632174915200836\n",
      "ϵ (Rademacher)               = 0.3313087859616395\n",
      "ϵ (Parrondo & Van den Broek) = 0.22369829368155955\n",
      "ϵ (Devroye)                  = 0.21522804969987752\n"
     ]
    }
   ],
   "source": [
    "println(\"N = $(N_arr[end])\")\n",
    "println(\"ϵ (VC)                       = $(epsilon_vc[end])\")\n",
    "println(\"ϵ (Rademacher)               = $(epsilon_rp[end])\")\n",
    "println(\"ϵ (Parrondo & Van den Broek) = $(epsilon_pv[end])\")\n",
    "println(\"ϵ (Devroye)                  = $(epsilon_dv[end])\")"
   ]
  },
  {
   "cell_type": "markdown",
   "metadata": {},
   "source": [
    "Comparison of Bounds for small $N$ = 5"
   ]
  },
  {
   "cell_type": "code",
   "execution_count": 12,
   "metadata": {
    "collapsed": false
   },
   "outputs": [
    {
     "name": "stdout",
     "output_type": "stream",
     "text": [
      "N = 5\n",
      "ϵ (VC)                       = 13.828161484991485\n",
      "ϵ (Rademacher)               = 7.048776564183685\n",
      "ϵ (Parrondo & Van den Broek) = 5.101361981980475\n",
      "ϵ (Devroye)                  = 5.5931255568478475\n"
     ]
    }
   ],
   "source": [
    "println(\"N = $(N_arr[1])\")\n",
    "println(\"ϵ (VC)                       = $(epsilon_vc[1])\")\n",
    "println(\"ϵ (Rademacher)               = $(epsilon_rp[1])\")\n",
    "println(\"ϵ (Parrondo & Van den Broek) = $(epsilon_pv[1])\")\n",
    "println(\"ϵ (Devroye)                  = $(epsilon_dv[1])\")"
   ]
  },
  {
   "cell_type": "markdown",
   "metadata": {},
   "source": [
    "## 3. Bias and Variance\n",
    "\n",
    "### 3.1 The Bias-Variance Decomposition\n",
    "\n",
    "Let's write $E_{out}$ as an *expected value* of the squared error between the hypothesis, $g^{(\\mathcal{D})}(\\mathbf{x})$ and the target function, $f(\\mathbf{x})$, i.e.:\n",
    "\n",
    "$$E_{out}\\left(g^{(\\mathcal{D})}\\right) = \\mathbb{E}_{\\mathbf{x}} \\left[ \\left( g^{(\\mathcal{D})}(\\mathbf{x}) - f(\\mathbf{x})\\right)^2\\right]$$\n",
    "\n",
    "where we have introduced the symbol $\\mathcal{D}$ to say that this is specific to a particular dataset (if a different dataset is used, we would arrive at a different target function).\n",
    "\n",
    "Now we wish to get rid of the dependency on the particular dataset, $\\mathcal{D}$.  This is done by repeating this over multiple datasets so that we can calculate an 'expected value':\n",
    "\n",
    "$$\\mathbb{E}_\\mathcal{D}\\left[ E_{out}\\left(g^{(\\mathcal{D})}\\right) \\right] = \\mathbb{E}_\\mathcal{D}\\left[ \\mathbb{E}_{\\mathbf{x}} \\left[ \\left( g^{(\\mathcal{D})}(\\mathbf{x}) - f(\\mathbf{x})\\right)^2\\right] \\right]$$\n",
    "\n",
    "$$\\mathbb{E}_\\mathcal{D}\\left[ E_{out}\\left(g^{(\\mathcal{D})}\\right) \\right] = \\mathbb{E}_{\\mathbf{x}} \\left[ \\mathbb{E}_\\mathcal{D}\\left[ \\left( g^{(\\mathcal{D})}(\\mathbf{x}) - f(\\mathbf{x})\\right)^2\\right] \\right]$$\n",
    "\n",
    "where in the last step, the order of expectations has been 'reversed'.  We are allowed to do this because we are 'integrating', where the integrand is strictly non-negative."
   ]
  },
  {
   "cell_type": "markdown",
   "metadata": {},
   "source": [
    "Let us consider the case where we are learning from multiple datasets.  From each dataset that we 'learn' from, we get a hypothesis.  If we take the 'average' of each of these hypotheses, we will arrive at the concept of an 'average' hypothesis, $\\bar g(\\mathbf{x})$.  If we have $K$ datasets, $\\mathcal{D_1, D_2, \\dots D_K}$, then we have:\n",
    "\n",
    "$$\\bar g(\\mathbf{x}) = \\frac{1}{K} \\sum\\limits_{k=1}^K g^{(\\mathcal{D_k})}\\left(\\mathbf{x}\\right) $$\n",
    "\n",
    "$$\\bar g(\\mathbf{x}) = \\mathbb{E}_\\mathcal{D}\\left[ g^{(\\mathcal{D})}\\left(\\mathbf{x}\\right) \\right] $$\n",
    "\n",
    "Now we expand the following quantity\n",
    "\n",
    "$$\\mathbb{E}_\\mathcal{D}\\left[ \\left( g^{(\\mathcal{D})}(\\mathbf{x}) - f(\\mathbf{x})\\right)^2\\right] = \\mathbb{E}_\\mathcal{D}\\left[ \\left( g^{(\\mathcal{D})}(\\mathbf{x}) - \\bar g(\\mathbf{x}) + \\bar g(\\mathbf{x}) - f(\\mathbf{x})\\right)^2\\right]$$\n",
    "\n",
    "$$= \\mathbb{E}_\\mathcal{D}\\left[ \\left( g^{(\\mathcal{D})}(\\mathbf{x}) - \\bar g(\\mathbf{x})\\right)^2 + \\left( \\bar g(\\mathbf{x}) - f(\\mathbf{x})\\right)^2 + 2\\left( g^{(\\mathcal{D})}(\\mathbf{x}) - \\bar g(\\mathbf{x})\\right) \\left( \\bar g(\\mathbf{x}) - f(\\mathbf{x})\\right) \\right]$$\n",
    "\n",
    "Let us now look at the 'cross term', $\\mathbb{E}_\\mathcal{D}\\left[ 2\\left( g^{(\\mathcal{D})}(\\mathbf{x}) - \\bar g(\\mathbf{x})\\right) \\left( \\bar g(\\mathbf{x}) - f(\\mathbf{x})\\right) \\right]$, the second factor is a constant, and that the first factor is zero because $\\mathbb{E}_\\mathcal{D}\\left[ g^{(\\mathcal{D})}(\\mathbf{x}) \\right] = \\bar g(\\mathbf{x})$ we can see that the entire 'cross term' is zero (the reason why the 'squared error' approach was chosen earlier was because with this approach, it could be shown that the cross term would be zero, i.e. it 'decomposes cleanly').  Hence we arrive at the following expression which shows the relationship between:\n",
    "\n",
    "$$\\mathbb{E}_\\mathcal{D}\\left[ \\left( g^{(\\mathcal{D})}(\\mathbf{x}) - f(\\mathbf{x})\\right)^2\\right] = \\underbrace{ \\mathbb{E}_\\mathcal{D}\\left[ \\left( g^{(\\mathcal{D})}(\\mathbf{x}) - \\bar g(\\mathbf{x})\\right)^2 \\right] }_{\\text{var}(\\mathbf{x})} + \\underbrace{ \\left( \\bar g(\\mathbf{x}) - f(\\mathbf{x})\\right)^2 }_{\\text{bias}(\\mathbf{x})}$$"
   ]
  },
  {
   "cell_type": "markdown",
   "metadata": {},
   "source": [
    "Hence we have:\n",
    "\n",
    "$$\\mathbb{E}_\\mathcal{D}\\left[ E_{out}\\left(g^{(\\mathcal{D})}\\right) \\right] = \\mathbb{E}_{\\mathbf{x}} \\left[ \\mathbb{E}_\\mathcal{D}\\left[ \\left( g^{(\\mathcal{D})}(\\mathbf{x}) - f(\\mathbf{x})\\right)^2\\right] \\right]$$\n",
    "\n",
    "$$\\mathbb{E}_\\mathcal{D}\\left[ E_{out}\\left(g^{(\\mathcal{D})}\\right) \\right] = \\mathbb{E}_{\\mathbf{x}} \\left[ \\text{bias}(\\mathbf{x}) + \\text{var}(\\mathbf{x}) \\right] = \\text{bias + variance}$$\n",
    "\n",
    "where we have introduced the following 'definitions' for bias and variance:\n",
    "\n",
    "$$\\text{bias} = \\mathbb{E}_{\\mathbf{x}} \\left[ \\left( \\bar g(\\mathbf{x}) - f(\\mathbf{x})\\right)^2 \\right]$$\n",
    "$$\\text{variance} = \\mathbb{E}_{\\mathbf{x}} \\left[  \\mathbb{E}_\\mathcal{D}\\left[ \\left( g^{(\\mathcal{D})}(\\mathbf{x}) - \\bar g(\\mathbf{x})\\right)^2 \\right] \\right]$$\n",
    "\n",
    "In the bias variance trade-off, we typically plot the following quantities\n",
    "\n",
    "* Expected out-of-sample error: $\\mathbb{E}_\\mathcal{D}\\left[ E_{out}\\left(g^{(\\mathcal{D})}\\right) \\right]$\n",
    "* Expected in-sample error: $\\mathbb{E}_\\mathcal{D}\\left[ E_{in}\\left(g^{(\\mathcal{D})}\\right) \\right]$\n",
    "\n",
    "Note: \n",
    "\n",
    "* $g^{(\\mathcal{D})}(\\mathbf{x})$ is your hypothesis\n",
    "* $\\bar g(\\mathbf{x})$ is the 'best possible' hypothesis that you would get from an infinite number of datasets (it need not necessarily be **in** the hypothesis set).\n",
    "* the difference between the two above quantities is how far your particular hypothesis is from the 'best possible'\n",
    "* $f(\\mathbf{x})$ is the target function\n",
    "* the difference between'the best possible' $\\bar g(\\mathbf{x})$ and the target function, $f(\\mathbf{x})$, is called the bias."
   ]
  },
  {
   "cell_type": "markdown",
   "metadata": {},
   "source": [
    "### 3.2 The Bias and Variance by Example\n",
    "\n",
    "Here, we examine the bias-variance tradeoff using a simple example.\n",
    "\n",
    "Consider the following target function:\n",
    "\n",
    "$f: \\left[-1,1\\right] \\rightarrow \\mathbb{R}$ given by $f(x) = \\sin\\left(\\pi x\\right)$\n",
    "\n",
    "Assume an input probability distribution uniform on [-1, 1] and that we use only 2 examples for the training set to find the best hypothesis of the following form:\n",
    "\n",
    "$$h(x) = ax$$\n",
    "\n",
    "Suppose we choose a least squared error measure:\n",
    "\n",
    "$$e(\\mathbf{x}) = \\frac{1}{N} \\sum\\limits_{i=1}^N \\left[ h(x_i) - \\sin(\\pi x_i) \\right]^2$$\n",
    "\n",
    "$$e(\\mathbf{x}) = \\frac{1}{N} \\sum\\limits_{i=1}^N \\left[ ax_i - \\sin(\\pi x_i) \\right]^2$$"
   ]
  },
  {
   "cell_type": "markdown",
   "metadata": {},
   "source": [
    "Setting the derivative to zero\n",
    "\n",
    "$$\\frac{\\partial e(\\mathbf{x})}{\\partial a} = \\frac{2}{N} \\sum\\limits_{i=1}^N x_i \\left[ ax_i - \\sin(\\pi x_i) \\right] = 0$$\n",
    "\n",
    "$$\\sum\\limits_{i=1}^N \\left[ ax_i^2 - x_i \\sin(\\pi x_i) \\right] = 0 \\Leftrightarrow\n",
    "\\sum\\limits_{i=1}^N ax_i^2 = \\sum\\limits_{i=1}^N x_i \\sin(\\pi x_i)$$\n",
    "\n",
    "$$a = \\frac{\\sum\\limits_{i=1}^N x_i \\sin(\\pi x_i)}{\\sum\\limits_{i=1}^N x_i^2} = \\frac{\\sum\\limits_{i=1}^N x_i y_i}{\\sum\\limits_{i=1}^N x_i^2}$$\n"
   ]
  },
  {
   "cell_type": "code",
   "execution_count": 13,
   "metadata": {
    "collapsed": false,
    "scrolled": true
   },
   "outputs": [],
   "source": [
    "function generate_dataset(;n_points=200)\n",
    "    x = linspace(-1,1,n_points);\n",
    "    y = sin(π*x);\n",
    "    x_sample = rand(2);\n",
    "    y_sample = sin(π*x_sample);\n",
    "    return x,y,x_sample,y_sample;\n",
    "end;\n",
    "\n",
    "function fit_a(x_sample,y_sample)\n",
    "    sum = x_sample[1]*y_sample[1]+x_sample[2]*y_sample[2]\n",
    "    return sum/(x_sample[1]^2+x_sample[2]^2);\n",
    "end;\n",
    "\n",
    "function predict_y_a(x,a)\n",
    "    return a .* x;\n",
    "end;"
   ]
  },
  {
   "cell_type": "code",
   "execution_count": 14,
   "metadata": {
    "collapsed": false,
    "scrolled": false
   },
   "outputs": [
    {
     "data": {
      "image/png": "[encoded data removed]",
      "text/plain": [
       "PyPlot.Figure(PyObject <matplotlib.figure.Figure object at 0x3265d3350>)"
      ]
     },
     "metadata": {},
     "output_type": "display_data"
    }
   ],
   "source": [
    "function plot_xy(x,y,x_sample,y_sample,y_pred)\n",
    "    figure(figsize=(7,5));\n",
    "    plot(x,y,\"m-\",label=L\"$\\sin(\\pi x)$\");\n",
    "    plot(x,y_pred,\"g--\",label=\"predicted\");\n",
    "    plot(x_sample,y_sample,\"bo\",label=\"sample data\");\n",
    "    grid(true);\n",
    "    legend(loc=\"best\",frameon=false);\n",
    "end;\n",
    "x,y,x_sample,y_sample = generate_dataset();\n",
    "y_pred = predict_y_a(x,fit_a(x_sample,y_sample));\n",
    "plot_xy(x,y,x_sample,y_sample,y_pred);"
   ]
  },
  {
   "cell_type": "markdown",
   "metadata": {},
   "source": [
    "We now run 1 million trials to obtain $\\bar g(\\mathbf{x})$.  This will give us the coefficient, $a$, of the 'best possible' hypothesis, $h(\\mathbf{x}) = a\\mathbf{x}$\n",
    "\n",
    "$$\\bar g(\\mathbf{x}) = \\mathbb{E}_\\mathcal{D}\\left[ g^{(\\mathcal{D})}\\left(\\mathbf{x}\\right) \\right] = \\lim\\limits_{K\\rightarrow\\infty} \\frac{1}{K} \\sum\\limits_{k=1}^K g^{(\\mathcal{D_k})}\\left(\\mathbf{x}\\right)$$"
   ]
  },
  {
   "cell_type": "code",
   "execution_count": 15,
   "metadata": {
    "collapsed": false
   },
   "outputs": [
    {
     "name": "stdout",
     "output_type": "stream",
     "text": [
      "<g(x)> = 1.43x\n"
     ]
    }
   ],
   "source": [
    "function get_avg_a(n_trials; n_points=200)\n",
    "    a_arr = Float64[];\n",
    "    for i in 1:n_trials\n",
    "        x_sample = rand(2);\n",
    "        y_sample = sin(π*x_sample);\n",
    "        a = fit_a(x_sample,y_sample);\n",
    "        push!(a_arr,a);\n",
    "    end\n",
    "    return mean(a_arr);\n",
    "end;\n",
    "a = get_avg_a(1e6);    #1.423, 1.425, 1.424, 1.427\n",
    "println(\"<g(x)> = $(round(a,2))x\");"
   ]
  },
  {
   "cell_type": "markdown",
   "metadata": {},
   "source": [
    "With the $\\bar g(\\mathbf{x})$ that we have just obtained, we can now calculate the bias and variance as follows:\n",
    "\n",
    "$$\\text{bias} = \\mathbb{E}_{\\mathbf{x}} \\left[ \\left( \\bar g(\\mathbf{x}) - f(\\mathbf{x})\\right)^2 \\right]$$\n",
    "$$\\text{variance} = \\mathbb{E}_{\\mathbf{x}} \\left[  \\mathbb{E}_\\mathcal{D}\\left[ \\left(\\bar g(\\mathbf{x}) - g^{(\\mathcal{D})}(\\mathbf{x})\\right)^2 \\right] \\right]$$"
   ]
  },
  {
   "cell_type": "code",
   "execution_count": 16,
   "metadata": {
    "collapsed": false,
    "scrolled": true
   },
   "outputs": [],
   "source": [
    "function get_bias_variance(avg_a, n_trials; n_points=200)\n",
    "    bias  = Float64[];\n",
    "    var   = Float64[];\n",
    "    for i in 1:n_trials\n",
    "        x_sample = rand(2);\n",
    "        y_sample = sin(π*x_sample);\n",
    "        a = fit_a(x_sample,y_sample);\n",
    "        g_bar_x = avg_a*x_sample;\n",
    "        push!(bias,mean((g_bar_x - y_sample).^2));\n",
    "        push!(var,mean((g_bar_x - a .* x_sample).^2));\n",
    "    end\n",
    "    return bias, var;\n",
    "end;"
   ]
  },
  {
   "cell_type": "code",
   "execution_count": 17,
   "metadata": {
    "collapsed": false
   },
   "outputs": [
    {
     "name": "stdout",
     "output_type": "stream",
     "text": [
      "<bias> = 0.27073224805345697\n",
      "<var>  = 0.20279688825848907\n"
     ]
    }
   ],
   "source": [
    "bias,var = get_bias_variance(a, 1e7);\n",
    "println(\"<bias> = $(mean(bias))\");\n",
    "println(\"<var>  = $(mean(var))\");"
   ]
  }
 ],
 "metadata": {
  "kernelspec": {
   "display_name": "Julia 0.5.0",
   "language": "julia",
   "name": "julia-0.5"
  },
  "language_info": {
   "file_extension": ".jl",
   "mimetype": "application/julia",
   "name": "julia",
   "version": "0.5.0"
  }
 },
 "nbformat": 4,
 "nbformat_minor": 0
}
