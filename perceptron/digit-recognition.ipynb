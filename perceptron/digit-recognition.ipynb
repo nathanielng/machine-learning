{
 "cells": [
  {
   "cell_type": "markdown",
   "metadata": {},
   "source": [
    "# Digit Recognition\n",
    "\n",
    "## 1. Introduction\n",
    "\n",
    "In this analysis, the handwritten digits are identified using support vector machines and radial basis functions.\n",
    "\n",
    "### 1.1 Libraries\n",
    "\n",
    "The essential libraries used here are numpy, matplotlib, and scikit-learn.  For convenience, pandas and IPython.display are used for displaying tables, and tqdm is used for progress bars."
   ]
  },
  {
   "cell_type": "code",
   "execution_count": 1,
   "metadata": {
    "collapsed": false
   },
   "outputs": [],
   "source": [
    "import numpy as np\n",
    "import matplotlib.pyplot as plt\n",
    "import pandas as pd\n",
    "from itertools import product\n",
    "from sklearn.svm import SVC\n",
    "from sklearn.model_selection import cross_val_score, cross_val_predict, ShuffleSplit, KFold\n",
    "from tqdm import tqdm\n",
    "from IPython.display import display, Math, Latex, HTML\n",
    "%matplotlib inline\n",
    "np.set_printoptions(precision=4,threshold=200)\n",
    "tqdm_bar_fmt='{percentage:3.0f}%|{bar}|'"
   ]
  },
  {
   "cell_type": "markdown",
   "metadata": {},
   "source": [
    "### 1.2 Dataset\n",
    "\n",
    "The US Postal Service Zip Code dataset is used, which contains handwritten digits zero to nine.  The data has been preprocessed, whereby features of intensity and symmetry are extracted."
   ]
  },
  {
   "cell_type": "code",
   "execution_count": 2,
   "metadata": {
    "collapsed": false
   },
   "outputs": [],
   "source": [
    "def download_data():\n",
    "    train_url = \"http://www.amlbook.com/data/zip/features.train\"\n",
    "    test_url  = \"http://www.amlbook.com/data/zip/features.test\"\n",
    "    column_names = ['digit','intensity','symmetry']\n",
    "    train = pd.read_table(train_url,names=column_names,header=None,delim_whitespace=True)\n",
    "    test = pd.read_table(test_url,names=column_names,header=None,delim_whitespace=True)\n",
    "    train.digit = train.digit.astype(int)\n",
    "    test.digit = test.digit.astype(int)\n",
    "    return train,test\n",
    "\n",
    "def process_data(train,test):\n",
    "    X_train = train.iloc[:,1:].values\n",
    "    y_train = train.iloc[:,0].values\n",
    "    X_test = test.iloc[:,1:].values\n",
    "    y_test = test.iloc[:,0].values\n",
    "    return X_train,y_train,X_test,y_test"
   ]
  },
  {
   "cell_type": "code",
   "execution_count": 3,
   "metadata": {
    "collapsed": false
   },
   "outputs": [],
   "source": [
    "train,test = download_data()\n",
    "X_train,y_train,X_test,y_test = process_data(train,test)"
   ]
  },
  {
   "cell_type": "markdown",
   "metadata": {},
   "source": [
    "## 2. Support Vector Machines for Digit Recognition"
   ]
  },
  {
   "cell_type": "markdown",
   "metadata": {},
   "source": [
    "### 2.1 Polynomial Kernels\n",
    "\n",
    "We wish to implement the following polynomial kernel for our support vector machine:\n",
    "\n",
    "$$K\\left(\\mathbf{x_n,x_m}\\right) = \\left(1+\\mathbf{x_n^Tx_m}\\right)^Q$$\n",
    "\n",
    "This is implemented in scikit-learn in the subroutine [sklearn.svm.SVC](http://scikit-learn.org/stable/modules/svm.html), where the kernel function takes the form:\n",
    "\n",
    "$$\\left(\\gamma \\langle x,x' \\rangle + r\\right)^d$$\n",
    "\n",
    "where $d$ is specified by the keyword `degree`, and $r$ by `coef0`."
   ]
  },
  {
   "cell_type": "markdown",
   "metadata": {},
   "source": [
    "### 2.1.1 One vs Rest Classification\n",
    "In the following subroutine, the data is split into \"one-vs-rest\", where $y=1$ corresponds to a match to the digit, and $y=0$ corresponds to all the other digits.  The training step is implemented in the call to `clf.fit()`."
   ]
  },
  {
   "cell_type": "code",
   "execution_count": 4,
   "metadata": {
    "collapsed": false
   },
   "outputs": [],
   "source": [
    "def get_misclassification_ovr(X_train,y_train,X_test,y_test,digit,\n",
    "                              Q=2,r=1.0,C=0.01,kernel='poly',verbose=False):\n",
    "    clf = SVC(C=C, kernel=kernel, degree=Q, coef0 = r, gamma = 1.0,\n",
    "          decision_function_shape='ovr', verbose=False)\n",
    "    y_in  = (y_train==digit).astype(int)\n",
    "    y_out = (y_test==digit).astype(int)\n",
    "    model = clf.fit(X_train,y_in)  # print(model)\n",
    "    E_in  = np.mean(y_in  != clf.predict(X_train))\n",
    "    E_out = np.mean(y_out != clf.predict(X_test))\n",
    "    n_support_vectors = len(clf.support_vectors_)\n",
    "    if verbose is True:\n",
    "        print()\n",
    "        print(\"Q = {}, C = {}: Support vectors: {}\".format(Q, C, n_support_vectors))\n",
    "        print(\"{} vs all: E_in  = {}\".format(digit,E_in))\n",
    "        print(\"{} vs all: E_out = {}\".format(digit,E_out))\n",
    "    return E_in,E_out,n_support_vectors"
   ]
  },
  {
   "cell_type": "markdown",
   "metadata": {},
   "source": [
    "The following code trains on the data for the cases: 0 vs all, 1 vs all, ..., 9 vs all.  For each of the digits, 0 to 9, the errors $E_{in}, E_{out}$ and the number of support vectors are recorded and stored in a pandas dataframe."
   ]
  },
  {
   "cell_type": "code",
   "execution_count": 5,
   "metadata": {
    "collapsed": false,
    "scrolled": true
   },
   "outputs": [
    {
     "name": "stderr",
     "output_type": "stream",
     "text": [
      "100%|██████████|\n"
     ]
    }
   ],
   "source": [
    "results = pd.DataFrame()\n",
    "i=0\n",
    "for digit in tqdm(range(10),bar_format=tqdm_bar_fmt):\n",
    "    ei, eo, n = get_misclassification_ovr(X_train,y_train,X_test,y_test,digit)\n",
    "    df = pd.DataFrame({'digit': digit, 'E_in': ei, 'E_out': eo, 'n': n}, index=[i])\n",
    "    results = results.append(df)\n",
    "    i += 1"
   ]
  },
  {
   "cell_type": "code",
   "execution_count": 6,
   "metadata": {
    "collapsed": false,
    "scrolled": true
   },
   "outputs": [
    {
     "data": {
      "text/html": [
       "<table border=\"1\" class=\"dataframe\">\n",
       "  <thead>\n",
       "    <tr style=\"text-align: right;\">\n",
       "      <th>digit</th>\n",
       "      <th>E_in</th>\n",
       "      <th>E_out</th>\n",
       "      <th>n</th>\n",
       "    </tr>\n",
       "  </thead>\n",
       "  <tbody>\n",
       "    <tr>\n",
       "      <td>0</td>\n",
       "      <td>0.105884</td>\n",
       "      <td>0.111609</td>\n",
       "      <td>2179</td>\n",
       "    </tr>\n",
       "    <tr>\n",
       "      <td>2</td>\n",
       "      <td>0.100261</td>\n",
       "      <td>0.098655</td>\n",
       "      <td>1970</td>\n",
       "    </tr>\n",
       "    <tr>\n",
       "      <td>4</td>\n",
       "      <td>0.089425</td>\n",
       "      <td>0.099651</td>\n",
       "      <td>1856</td>\n",
       "    </tr>\n",
       "    <tr>\n",
       "      <td>6</td>\n",
       "      <td>0.091071</td>\n",
       "      <td>0.084704</td>\n",
       "      <td>1893</td>\n",
       "    </tr>\n",
       "    <tr>\n",
       "      <td>8</td>\n",
       "      <td>0.074338</td>\n",
       "      <td>0.082711</td>\n",
       "      <td>1776</td>\n",
       "    </tr>\n",
       "  </tbody>\n",
       "</table>"
      ],
      "text/plain": [
       "<IPython.core.display.HTML object>"
      ]
     },
     "metadata": {},
     "output_type": "display_data"
    }
   ],
   "source": [
    "display(HTML(results[['digit','E_in','E_out','n']].iloc[::2].to_html(index=False)))"
   ]
  },
  {
   "cell_type": "code",
   "execution_count": 7,
   "metadata": {
    "collapsed": false
   },
   "outputs": [
    {
     "data": {
      "text/html": [
       "<table border=\"1\" class=\"dataframe\">\n",
       "  <thead>\n",
       "    <tr style=\"text-align: right;\">\n",
       "      <th>digit</th>\n",
       "      <th>E_in</th>\n",
       "      <th>E_out</th>\n",
       "      <th>n</th>\n",
       "    </tr>\n",
       "  </thead>\n",
       "  <tbody>\n",
       "    <tr>\n",
       "      <td>1</td>\n",
       "      <td>0.014401</td>\n",
       "      <td>0.021923</td>\n",
       "      <td>386</td>\n",
       "    </tr>\n",
       "    <tr>\n",
       "      <td>3</td>\n",
       "      <td>0.090248</td>\n",
       "      <td>0.082711</td>\n",
       "      <td>1950</td>\n",
       "    </tr>\n",
       "    <tr>\n",
       "      <td>5</td>\n",
       "      <td>0.076258</td>\n",
       "      <td>0.079721</td>\n",
       "      <td>1585</td>\n",
       "    </tr>\n",
       "    <tr>\n",
       "      <td>7</td>\n",
       "      <td>0.088465</td>\n",
       "      <td>0.073244</td>\n",
       "      <td>1704</td>\n",
       "    </tr>\n",
       "    <tr>\n",
       "      <td>9</td>\n",
       "      <td>0.088328</td>\n",
       "      <td>0.088191</td>\n",
       "      <td>1978</td>\n",
       "    </tr>\n",
       "  </tbody>\n",
       "</table>"
      ],
      "text/plain": [
       "<IPython.core.display.HTML object>"
      ]
     },
     "metadata": {},
     "output_type": "display_data"
    }
   ],
   "source": [
    "display(HTML(results[['digit','E_in','E_out','n']].iloc[1::2].to_html(index=False)))"
   ]
  },
  {
   "cell_type": "code",
   "execution_count": 8,
   "metadata": {
    "collapsed": false,
    "scrolled": false
   },
   "outputs": [
    {
     "name": "stdout",
     "output_type": "stream",
     "text": [
      "         E_in      E_out    digit     n\n",
      "--  ---------  ---------  -------  ----\n",
      " 0  0.105884   0.111609         0  2179\n",
      " 1  0.0144013  0.0219233        1   386\n",
      " 2  0.100261   0.0986547        2  1970\n",
      " 3  0.0902483  0.0827105        3  1950\n",
      " 4  0.0894253  0.0996512        4  1856\n",
      " 5  0.0762584  0.079721         5  1585\n",
      " 6  0.0910712  0.0847035        6  1893\n",
      " 7  0.0884652  0.0732436        7  1704\n",
      " 8  0.0743382  0.0827105        8  1776\n",
      " 9  0.0883281  0.0881913        9  1978\n"
     ]
    }
   ],
   "source": [
    "from tabulate import tabulate\n",
    "print(tabulate(results, headers='keys', tablefmt='simple'))"
   ]
  },
  {
   "cell_type": "markdown",
   "metadata": {},
   "source": [
    "### 2.1.2 One vs One Classification\n",
    "\n",
    "One vs one classification makes better use of the data, but is more computatationally expensive.  The following subroutine splits the data so that $y=0$ for the first digit, and $y=1$ for the second digit.  The rows of data corresponding to all other digits are removed."
   ]
  },
  {
   "cell_type": "code",
   "execution_count": 9,
   "metadata": {
    "collapsed": true
   },
   "outputs": [],
   "source": [
    "def get_misclassification_ovo(X_train,y_train,X_test,y_test,digit1,digit2,\n",
    "                              Q=2,r=1.0,C=0.01,kernel='poly'):\n",
    "    clf = SVC(C=C, kernel=kernel, degree=Q, coef0 = r, gamma = 1.0,\n",
    "          decision_function_shape='ovo', verbose=False)\n",
    "    select_in = np.logical_or(y_train==digit1,y_train==digit2)\n",
    "    y_in  = (y_train[select_in]==digit1).astype(int)\n",
    "    X_in  =  X_train[select_in]\n",
    "    select_out = np.logical_or(y_test==digit1,y_test==digit2)\n",
    "    y_out = (y_test[select_out]==digit1).astype(int)\n",
    "    X_out =  X_test[select_out]\n",
    "    model = clf.fit(X_in,y_in)\n",
    "\n",
    "    E_in  = np.mean(y_in  != clf.predict(X_in))\n",
    "    E_out = np.mean(y_out != clf.predict(X_out))\n",
    "    n_support_vectors = len(clf.support_vectors_)\n",
    "    return E_in,E_out,n_support_vectors"
   ]
  },
  {
   "cell_type": "markdown",
   "metadata": {},
   "source": [
    "In the following code, a 1-vs-5 classifier is tested for $Q=2,5$ and $C=0.001,0.01,0.1,1$."
   ]
  },
  {
   "cell_type": "code",
   "execution_count": 10,
   "metadata": {
    "collapsed": false,
    "scrolled": false
   },
   "outputs": [
    {
     "name": "stderr",
     "output_type": "stream",
     "text": [
      "100%|██████████|\n"
     ]
    },
    {
     "data": {
      "text/html": [
       "<table border=\"1\" class=\"dataframe\">\n",
       "  <thead>\n",
       "    <tr style=\"text-align: right;\">\n",
       "      <th>C</th>\n",
       "      <th>Q</th>\n",
       "      <th>E_in</th>\n",
       "      <th>E_out</th>\n",
       "      <th>n</th>\n",
       "    </tr>\n",
       "  </thead>\n",
       "  <tbody>\n",
       "    <tr>\n",
       "      <td>0.0001</td>\n",
       "      <td>2</td>\n",
       "      <td>0.008969</td>\n",
       "      <td>0.016509</td>\n",
       "      <td>236</td>\n",
       "    </tr>\n",
       "    <tr>\n",
       "      <td>0.0001</td>\n",
       "      <td>5</td>\n",
       "      <td>0.004484</td>\n",
       "      <td>0.018868</td>\n",
       "      <td>26</td>\n",
       "    </tr>\n",
       "    <tr>\n",
       "      <td>0.0010</td>\n",
       "      <td>2</td>\n",
       "      <td>0.004484</td>\n",
       "      <td>0.016509</td>\n",
       "      <td>76</td>\n",
       "    </tr>\n",
       "    <tr>\n",
       "      <td>0.0010</td>\n",
       "      <td>5</td>\n",
       "      <td>0.004484</td>\n",
       "      <td>0.021226</td>\n",
       "      <td>25</td>\n",
       "    </tr>\n",
       "    <tr>\n",
       "      <td>0.0100</td>\n",
       "      <td>2</td>\n",
       "      <td>0.004484</td>\n",
       "      <td>0.018868</td>\n",
       "      <td>34</td>\n",
       "    </tr>\n",
       "    <tr>\n",
       "      <td>0.0100</td>\n",
       "      <td>5</td>\n",
       "      <td>0.003844</td>\n",
       "      <td>0.021226</td>\n",
       "      <td>23</td>\n",
       "    </tr>\n",
       "    <tr>\n",
       "      <td>1.0000</td>\n",
       "      <td>2</td>\n",
       "      <td>0.003203</td>\n",
       "      <td>0.018868</td>\n",
       "      <td>24</td>\n",
       "    </tr>\n",
       "    <tr>\n",
       "      <td>1.0000</td>\n",
       "      <td>5</td>\n",
       "      <td>0.003203</td>\n",
       "      <td>0.021226</td>\n",
       "      <td>21</td>\n",
       "    </tr>\n",
       "  </tbody>\n",
       "</table>"
      ],
      "text/plain": [
       "<IPython.core.display.HTML object>"
      ]
     },
     "metadata": {},
     "output_type": "display_data"
    }
   ],
   "source": [
    "C_arr = [0.0001, 0.001, 0.01, 1]\n",
    "Q_arr = [2, 5]\n",
    "CQ_arr = list(product(C_arr,Q_arr))\n",
    "results = pd.DataFrame()\n",
    "i=0\n",
    "for C, Q in tqdm(CQ_arr,bar_format=tqdm_bar_fmt):\n",
    "    ei, eo, n = get_misclassification_ovo(X_train,y_train,X_test,y_test,\n",
    "                                          digit1=1,digit2=5,Q=Q,r=1.0,C=C)\n",
    "    df = pd.DataFrame({'C': C, 'Q': Q, 'E_in': ei, 'E_out': eo, 'n': n}, index=[i])\n",
    "    results = results.append(df)\n",
    "    i += 1\n",
    "display(HTML(results[['C','Q','E_in','E_out','n']].to_html(index=False)))"
   ]
  },
  {
   "cell_type": "markdown",
   "metadata": {},
   "source": [
    "### 2.1.3 Polynomial Kernel with Cross-Validation\n",
    "\n",
    "For k-fold cross-validation, the subroutine [`sklearn.model_selection.KFold`](http://scikit-learn.org/stable/modules/generated/sklearn.model_selection.KFold.html#sklearn.model_selection.KFold)`()` is employed to split the data into folds.  Random shuffling is enabled with the `shuffle=True` option."
   ]
  },
  {
   "cell_type": "code",
   "execution_count": 11,
   "metadata": {
    "collapsed": true
   },
   "outputs": [],
   "source": [
    "def select_digits_ovo(X,y,digit1,digit2):\n",
    "    subset = np.logical_or(y==digit1,y==digit2)\n",
    "    X_in  =  X[subset].copy()\n",
    "    y_in  = (y[subset]==digit1).astype(int).copy()\n",
    "    return X_in,y_in"
   ]
  },
  {
   "cell_type": "code",
   "execution_count": 12,
   "metadata": {
    "collapsed": true
   },
   "outputs": [],
   "source": [
    "def get_misclassification_ovo_cv(X_in,y_in,Q=2,r=1.0,C=0.01,kernel='poly'):\n",
    "    kf = KFold(n_splits=10, shuffle=True)\n",
    "    kf.get_n_splits(X_in)\n",
    "    E_cv = []\n",
    "    for train_index, test_index in kf.split(X_in):\n",
    "        X_trn, X_tst = X_in[train_index], X_in[test_index]\n",
    "        y_trn, y_tst = y_in[train_index], y_in[test_index]\n",
    "        clf = SVC(C=C, kernel=kernel, degree=Q, coef0 = r, gamma = 1.0,\n",
    "              decision_function_shape='ovo', verbose=False)\n",
    "        model = clf.fit(X_trn,y_trn)\n",
    "        E_cv.append(np.mean(y_tst != clf.predict(X_tst)))\n",
    "    return E_cv"
   ]
  },
  {
   "cell_type": "markdown",
   "metadata": {},
   "source": [
    "In this example, our parameters are $Q=2, C \\in \\{0.0001,0.001,0.01,0.1,1\\}$ and we are considering the 1-vs-5 classifier."
   ]
  },
  {
   "cell_type": "code",
   "execution_count": 13,
   "metadata": {
    "collapsed": true
   },
   "outputs": [],
   "source": [
    "C_arr = [0.0001, 0.001, 0.01, 0.1, 1]; d1 = 1; d2 = 5\n",
    "Q=2\n",
    "X_in,y_in = select_digits_ovo(X_train,y_train,d1,d2)"
   ]
  },
  {
   "cell_type": "markdown",
   "metadata": {},
   "source": [
    "Due to the effect of random shuffling, 100 runs are carried out, and the results tabulated."
   ]
  },
  {
   "cell_type": "code",
   "execution_count": 14,
   "metadata": {
    "collapsed": false,
    "scrolled": true
   },
   "outputs": [
    {
     "name": "stderr",
     "output_type": "stream",
     "text": [
      "100%|██████████|\n"
     ]
    }
   ],
   "source": [
    "E_cv_arr = []\n",
    "count_arr = []\n",
    "for n in tqdm(range(100),bar_format=tqdm_bar_fmt):\n",
    "    counts = np.zeros(len(C_arr),int)\n",
    "    kf = KFold(n_splits=10, shuffle=True)\n",
    "    kf.get_n_splits(X_in)\n",
    "    for train_index, test_index in kf.split(X_in):\n",
    "        X_trn, X_tst = X_in[train_index], X_in[test_index]\n",
    "        y_trn, y_tst = y_in[train_index], y_in[test_index]\n",
    "        E_cv = []\n",
    "        for C in C_arr:\n",
    "            clf = SVC(C=C, kernel='poly', degree=Q, coef0=1.0, gamma=1.0,\n",
    "                  decision_function_shape='ovo', verbose=False)\n",
    "            model = clf.fit(X_trn,y_trn)\n",
    "            E_cv.append(np.mean(y_tst != clf.predict(X_tst)))\n",
    "        counts[np.argmin(E_cv)] += 1\n",
    "        E_cv_arr.append(np.array(E_cv))\n",
    "    count_arr.append(counts)"
   ]
  },
  {
   "cell_type": "markdown",
   "metadata": {},
   "source": [
    "The number of times each particular value of $C$ is picked (for having the smallest $E_{cv}$) is calculated, as well as the mean cross validation error.  The data is tabulated as follows:"
   ]
  },
  {
   "cell_type": "code",
   "execution_count": 15,
   "metadata": {
    "collapsed": false
   },
   "outputs": [
    {
     "data": {
      "text/html": [
       "<table border=\"1\" class=\"dataframe\">\n",
       "  <thead>\n",
       "    <tr style=\"text-align: right;\">\n",
       "      <th>C</th>\n",
       "      <th>count</th>\n",
       "      <th>E_cv</th>\n",
       "    </tr>\n",
       "  </thead>\n",
       "  <tbody>\n",
       "    <tr>\n",
       "      <td>0.0001</td>\n",
       "      <td>383</td>\n",
       "      <td>0.009808</td>\n",
       "    </tr>\n",
       "    <tr>\n",
       "      <td>0.0010</td>\n",
       "      <td>506</td>\n",
       "      <td>0.004785</td>\n",
       "    </tr>\n",
       "    <tr>\n",
       "      <td>0.0100</td>\n",
       "      <td>47</td>\n",
       "      <td>0.004696</td>\n",
       "    </tr>\n",
       "    <tr>\n",
       "      <td>0.1000</td>\n",
       "      <td>29</td>\n",
       "      <td>0.004760</td>\n",
       "    </tr>\n",
       "    <tr>\n",
       "      <td>1.0000</td>\n",
       "      <td>35</td>\n",
       "      <td>0.004901</td>\n",
       "    </tr>\n",
       "  </tbody>\n",
       "</table>"
      ],
      "text/plain": [
       "<IPython.core.display.HTML object>"
      ]
     },
     "metadata": {},
     "output_type": "display_data"
    }
   ],
   "source": [
    "df = pd.DataFrame({'C': C_arr})\n",
    "df['count'] = np.sum(np.array(count_arr),axis=0)\n",
    "df['E_cv']  = np.mean(np.array(E_cv_arr),axis=0)\n",
    "display(HTML(df.to_html(index=False)))"
   ]
  },
  {
   "cell_type": "code",
   "execution_count": 16,
   "metadata": {
    "collapsed": false
   },
   "outputs": [
    {
     "data": {
      "image/png": "[encoded data removed]",
      "text/plain": [
       "<matplotlib.figure.Figure at 0x119f7d8d0>"
      ]
     },
     "metadata": {},
     "output_type": "display_data"
    }
   ],
   "source": [
    "fig = plt.figure(figsize=(10,5))\n",
    "ax1 = fig.add_subplot(121)\n",
    "_ = df.plot(y=['count'],ax=ax1,marker='x',color='red',markersize=10,grid=True)\n",
    "ax2 = fig.add_subplot(122)\n",
    "_ = df.plot(y=['E_cv'],ax=ax2,marker='o',color='green',markersize=7,grid=True)"
   ]
  },
  {
   "cell_type": "markdown",
   "metadata": {},
   "source": [
    "### 2.2 Scaling Law for Support Vector Machines\n",
    "\n",
    "This is based on [scikit-learn example code](http://scikit-learn.org/stable/tutorial/basic/tutorial.html), but modified to demonstrate how the training time scales with the size of the data.  The dataset in this example is the original MNIST data."
   ]
  },
  {
   "cell_type": "code",
   "execution_count": 17,
   "metadata": {
    "collapsed": false
   },
   "outputs": [],
   "source": [
    "from sklearn.datasets import fetch_mldata\n",
    "from sklearn import svm\n",
    "import timeit\n",
    "digits = fetch_mldata('MNIST original')  # stores data in ~/scikit_learn_data by default\n",
    "n_max = len(digits.target)\n",
    "selection = np.random.permutation(n_max)"
   ]
  },
  {
   "cell_type": "code",
   "execution_count": 18,
   "metadata": {
    "collapsed": false
   },
   "outputs": [
    {
     "name": "stdout",
     "output_type": "stream",
     "text": [
      "n = 500, time = 0.3734194010030478\n",
      "n = 1000, time = 1.5319869879167527\n",
      "n = 1500, time = 3.259773097001016\n",
      "n = 2000, time = 5.597098698024638\n",
      "n = 5000, time = 36.763241220032796\n",
      "n = 10000, time = 146.17572045407724\n"
     ]
    }
   ],
   "source": [
    "n_arr = [500, 1000, 1500, 2000, 5000, 10000]\n",
    "t_arr = []\n",
    "for n in n_arr:\n",
    "    sel = selection[:n]\n",
    "    X = digits.data[sel]\n",
    "    y = digits.target[sel]\n",
    "    clf = svm.SVC(gamma=0.001, C=100.)\n",
    "    t0 = timeit.default_timer()\n",
    "    clf.fit(X,y)\n",
    "    t_arr.append(timeit.default_timer() - t0)\n",
    "    print(\"n = {}, time = {}\".format(n, t_arr[-1]))"
   ]
  },
  {
   "cell_type": "code",
   "execution_count": 19,
   "metadata": {
    "collapsed": false,
    "scrolled": true
   },
   "outputs": [
    {
     "data": {
      "image/png": "[encoded data removed]",
      "text/plain": [
       "<matplotlib.figure.Figure at 0x11bebb0b8>"
      ]
     },
     "metadata": {},
     "output_type": "display_data"
    }
   ],
   "source": [
    "plt.plot(np.array(n_arr),np.array(t_arr),'bx-')\n",
    "plt.xlabel('no. of samples')\n",
    "plt.ylabel('time (s)')\n",
    "plt.grid()"
   ]
  },
  {
   "cell_type": "markdown",
   "metadata": {},
   "source": [
    "## 3. Radial Basis Functions\n",
    "\n",
    "### 3.1 Background\n",
    "\n",
    "The hypothesis is given by:\n",
    "\n",
    "$$h\\left(\\mathbf{x}\\right) = \\sum\\limits_{k=1}^K w_k \\exp\\left(-\\gamma \\Vert \\mathbf{x} - \\mu_k \\Vert^2\\right)$$\n",
    "\n",
    "This is implemented in the subroutine [`sklearn.svm.SVC`](http://scikit-learn.org/stable/modules/svm.html)`(..., kernel='rbf', ...)` as shown in the code below."
   ]
  },
  {
   "cell_type": "code",
   "execution_count": 20,
   "metadata": {
    "collapsed": true
   },
   "outputs": [],
   "source": [
    "def get_misclassification_rbf(X_train,y_train,X_test,y_test,C,digit1=1,digit2=5):\n",
    "    clf = SVC(C=C, kernel='rbf', gamma = 1.0,\n",
    "          decision_function_shape='ovo', verbose=False)\n",
    "    select_in = np.logical_or(y_train==digit1,y_train==digit2)\n",
    "    y_in  = (y_train[select_in]==digit1).astype(float)\n",
    "    X_in  =  X_train[select_in]\n",
    "    select_out = np.logical_or(y_test==digit1,y_test==digit2)\n",
    "    y_out = (y_test[select_out]==digit1).astype(float)\n",
    "    X_out =  X_test[select_out]\n",
    "    model = clf.fit(X_in,y_in)\n",
    "    E_in  = np.mean(y_in  != clf.predict(X_in))\n",
    "    E_out = np.mean(y_out != clf.predict(X_out))\n",
    "    n_support_vectors = len(clf.support_vectors_)\n",
    "    return E_in,E_out,n_support_vectors"
   ]
  },
  {
   "cell_type": "markdown",
   "metadata": {},
   "source": [
    "For $C \\in \\{0.01, 1, 100, 10^4, 10^6\\}$, the in-sample and out-of-sample errors, as well as the number of support vectors are tabulated as follows:"
   ]
  },
  {
   "cell_type": "code",
   "execution_count": 21,
   "metadata": {
    "collapsed": false,
    "scrolled": true
   },
   "outputs": [
    {
     "name": "stderr",
     "output_type": "stream",
     "text": [
      "100%|██████████|\n"
     ]
    },
    {
     "data": {
      "text/html": [
       "<table border=\"1\" class=\"dataframe\">\n",
       "  <thead>\n",
       "    <tr style=\"text-align: right;\">\n",
       "      <th>C</th>\n",
       "      <th>E_in</th>\n",
       "      <th>E_out</th>\n",
       "      <th>n</th>\n",
       "    </tr>\n",
       "  </thead>\n",
       "  <tbody>\n",
       "    <tr>\n",
       "      <td>0.01</td>\n",
       "      <td>0.003844</td>\n",
       "      <td>0.023585</td>\n",
       "      <td>406</td>\n",
       "    </tr>\n",
       "    <tr>\n",
       "      <td>1.00</td>\n",
       "      <td>0.004484</td>\n",
       "      <td>0.021226</td>\n",
       "      <td>31</td>\n",
       "    </tr>\n",
       "    <tr>\n",
       "      <td>100.00</td>\n",
       "      <td>0.003203</td>\n",
       "      <td>0.018868</td>\n",
       "      <td>22</td>\n",
       "    </tr>\n",
       "    <tr>\n",
       "      <td>10000.00</td>\n",
       "      <td>0.002562</td>\n",
       "      <td>0.023585</td>\n",
       "      <td>19</td>\n",
       "    </tr>\n",
       "    <tr>\n",
       "      <td>1000000.00</td>\n",
       "      <td>0.000641</td>\n",
       "      <td>0.023585</td>\n",
       "      <td>17</td>\n",
       "    </tr>\n",
       "  </tbody>\n",
       "</table>"
      ],
      "text/plain": [
       "<IPython.core.display.HTML object>"
      ]
     },
     "metadata": {},
     "output_type": "display_data"
    }
   ],
   "source": [
    "C_arr = [0.01, 1., 100., 1e4, 1e6]\n",
    "results = pd.DataFrame()\n",
    "i=0\n",
    "for C in tqdm(C_arr,bar_format=tqdm_bar_fmt):\n",
    "    ei, eo, n = get_misclassification_rbf(X_train,y_train,X_test,y_test,\n",
    "                                          C,digit1=1,digit2=5)\n",
    "    df = pd.DataFrame({'C': C, 'E_in': ei, 'E_out': eo, 'n': n}, index=[i])\n",
    "    results = results.append(df)\n",
    "    i += 1\n",
    "display(HTML(results.to_html(index=False)))"
   ]
  },
  {
   "cell_type": "markdown",
   "metadata": {},
   "source": [
    "The table is also plotted graphically below:"
   ]
  },
  {
   "cell_type": "code",
   "execution_count": 22,
   "metadata": {
    "collapsed": false
   },
   "outputs": [
    {
     "data": {
      "image/png": "[encoded data removed]",
      "text/plain": [
       "<matplotlib.figure.Figure at 0x11befd198>"
      ]
     },
     "metadata": {},
     "output_type": "display_data"
    }
   ],
   "source": [
    "def plot_Ein_Eout(df):\n",
    "    fig = plt.figure(figsize=(12,5))\n",
    "    ax1 = fig.add_subplot(121)\n",
    "    df.plot(ax=ax1, x='C', y='E_in', kind='line', marker='o', markersize=7, logx=True)\n",
    "    df.plot(ax=ax1, x='C', y='E_out', kind='line', marker='x', markersize=7, logx=True)\n",
    "    ax1.legend(loc='best',frameon=False)\n",
    "    ax1.grid(True)\n",
    "    ax1.set_title('In-Sample vs Out-of-Sample Errors')\n",
    "\n",
    "    ax2 = fig.add_subplot(122)\n",
    "    df.plot(ax=ax2, x='C', y='n', kind='line', marker='+', markersize=10, logx=True)\n",
    "    ax2.legend(loc='best',frameon=False)\n",
    "    ax2.grid(True)\n",
    "    ax2.set_title('Number of Support Vectors')\n",
    "\n",
    "plot_Ein_Eout(results)"
   ]
  }
 ],
 "metadata": {
  "kernelspec": {
   "display_name": "Python 3",
   "language": "python",
   "name": "python3"
  },
  "language_info": {
   "codemirror_mode": {
    "name": "ipython",
    "version": 3
   },
   "file_extension": ".py",
   "mimetype": "text/x-python",
   "name": "python",
   "nbconvert_exporter": "python",
   "pygments_lexer": "ipython3",
   "version": "3.5.1"
  }
 },
 "nbformat": 4,
 "nbformat_minor": 0
}
