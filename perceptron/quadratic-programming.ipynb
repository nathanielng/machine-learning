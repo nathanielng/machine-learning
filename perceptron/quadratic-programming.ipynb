{
 "cells": [
  {
   "cell_type": "markdown",
   "metadata": {},
   "source": [
    "# Quadratic Programming\n",
    "\n",
    "## 1. Introduction\n",
    "\n",
    "### 1.1 Libraries Used\n",
    "\n",
    "For Quadratic Programming, the packages [quadprog](https://pypi.python.org/pypi/quadprog/0.1.2) and [cvxopt](http://cvxopt.org) were installed:\n",
    "\n",
    "```bash\n",
    "pip install quadprog\n",
    "pip install cvxopt\n",
    "```\n",
    "\n",
    "Help for the appropriate functions are available via\n",
    "\n",
    "```python\n",
    "help(quadprog.solve_qp)\n",
    "help(cvxopt.solvers.qp)\n",
    "```\n",
    "\n",
    "The remaining libraries are loaded in the code below:"
   ]
  },
  {
   "cell_type": "code",
   "execution_count": 1,
   "metadata": {
    "collapsed": true
   },
   "outputs": [],
   "source": [
    "import numpy as np\n",
    "import matplotlib.pyplot as plt\n",
    "import scipy\n",
    "import cvxopt\n",
    "import quadprog\n",
    "from numpy.random import permutation\n",
    "from sklearn import linear_model\n",
    "from sympy import var, diff, exp, latex, factor, log, simplify\n",
    "from IPython.display import display, Math, Latex\n",
    "np.set_printoptions(precision=4,threshold=400)\n",
    "%matplotlib inline"
   ]
  },
  {
   "cell_type": "markdown",
   "metadata": {},
   "source": [
    "### 1.2 Theory\n",
    "\n",
    "#### 1.2.1 Lagrange Multipliers\n",
    "\n",
    "The Lagrangian is given by:\n",
    "\n",
    "$$\\mathcal{L}\\left(\\mathbf{w},b,\\mathbf{\\alpha}\\right) = \\frac{1}{2}\\mathbf{w^T w} - \\sum\\limits_{n=1}^N \\alpha_n\\left[y_n\\left(\\mathbf{w^T x_n + b}\\right) - 1\\right]$$\n",
    "\n",
    "The Lagrangian may be simplified by making the following substitution:\n",
    "\n",
    "$$\\mathbf{w} = \\sum\\limits_{n=1}^N \\alpha_n y_n \\mathbf{x_n}, \\quad \\sum\\limits_{n=1}^N \\alpha_n y_n = 0$$\n",
    "\n",
    "whereby we obtain:\n",
    "\n",
    "$$\\mathcal{L}\\left(\\mathbf{\\alpha}\\right) = \\sum\\limits_{n=1}^N \\alpha_n - \\frac{1}{2}\\sum\\limits_{n=1}^N \\sum\\limits_{m=1}^N y_n y_m \\alpha_n \\alpha_m \\mathbf{x_n^T x_m}$$"
   ]
  },
  {
   "cell_type": "markdown",
   "metadata": {},
   "source": [
    "We wish to maximize the Lagrangian with respect to $\\mathbf{\\alpha}$ subject to the conditions: $\\alpha_n \\ge 0$ for:\n",
    "\n",
    "$$n = 1, \\dots, N \\quad\\text{and}\\quad \\sum\\limits_{n=1}^N \\alpha_n y_n = 0$$\n",
    "\n",
    "To do this, we convert the Lagrangian to match a form that can be used with quadratic programming software packages.\n",
    "\n",
    "$$\\min\\limits_\\alpha \\frac{1}{2}\\alpha^T \\left[\\begin{array}{cccc}\n",
    "y_1 y_1 \\mathbf{x_1^T x_1} & y_1 y_2 \\mathbf{x_1^T x_2} & \\cdots & y_1 y_N \\mathbf{x_1^T x_N}\\\\\n",
    "y_2 y_1 \\mathbf{x_2^T x_1} & y_2 y_2 \\mathbf{x_2^T x_2} & \\cdots & y_2 y_N \\mathbf{x_2^T x_N}\\\\\n",
    "\\vdots & \\vdots & & \\vdots\\\\\n",
    "y_N y_1 \\mathbf{x_N^T x_1} & y_N y_2 \\mathbf{x_N^T x_2} & \\cdots & y_N y_N \\mathbf{x_N^T x_N}\\end{array}\\right]\\alpha + \\left(-\\mathbf{1^T}\\right)\\mathbf{\\alpha}$$\n",
    "\n",
    "i.e.\n",
    "\n",
    "$$\\min\\limits_\\alpha \\frac{1}{2}\\alpha^T \\mathbf{Q} \\alpha + \\left(-\\mathbf{1^T}\\right)\\mathbf{\\alpha}$$\n",
    "\n",
    "Subject to the linear constraint: $\\mathbf{y^T \\alpha} = 0$ and $0 \\le \\alpha \\le \\infty$."
   ]
  },
  {
   "cell_type": "markdown",
   "metadata": {},
   "source": [
    "#### 1.2.2 Quadratic Programming\n",
    "\n",
    "In [Quadratic Programming](https://en.wikipedia.org/wiki/Quadratic_programming), the objective is to find the value of $\\mathbf{x}$ that minimizes the function:\n",
    "\n",
    "$$\\frac{1}{2}\\mathbf{x^T Q x + c^T x}$$\n",
    "\n",
    "subject to the constraint:\n",
    "\n",
    "$$\\mathbf{Ax \\le b}$$\n",
    "\n",
    "The support vectors are $\\mathbf{x_n}$ where $\\alpha_n > 0$."
   ]
  },
  {
   "cell_type": "markdown",
   "metadata": {},
   "source": [
    "The solution to the above is calculated using a subroutine such as `solve_qp(G, a, C, b)`,\n",
    "which finds the $\\alpha$'s that minimize:\n",
    "\n",
    "$$\\frac{1}{2}\\mathbf{x^T G x} - \\mathbf{a^T x}$$\n",
    "\n",
    "subject to the condition:\n",
    "\n",
    "$$\\mathbf{C^T x} \\ge \\mathbf{b}$$\n",
    "\n",
    "The quadratic programming solver is implemented in [`solve.QP.c`](https://github.com/rmcgibbo/quadprog/blob/master/quadprog/solve.QP.c), with a Cython wrapper [`quadprog.pyx`](https://github.com/rmcgibbo/quadprog/blob/master/quadprog/quadprog.pyx).  The unit tests are in [`test_1.py`](https://github.com/rmcgibbo/quadprog/blob/master/quadprog/tests/test_1.py) which compares the solution from quadprog's `solve_qp()` with that obtained from `scipy.optimize.minimize`, and [`test_factorized.py`](https://github.com/rmcgibbo/quadprog/blob/master/quadprog/tests/test_factorized.py)."
   ]
  },
  {
   "cell_type": "markdown",
   "metadata": {},
   "source": [
    "## 2. Validation\n",
    "\n",
    "### 2.1 Is there a Validation Bias when choosing the minimum of two random variables?\n",
    "\n",
    "Let $\\text{e}_1$ and $\\text{e}_2$ be independent random variables, distributed uniformly over the interval [0, 1]. Let $\\text{e} = \\min\\left(\\text{e}_1, \\text{e}_2\\right)$. What is the expected values of $\\left(\\text{e}_1, \\text{e}_2, \\text{e}\\right)$:"
   ]
  },
  {
   "cell_type": "code",
   "execution_count": 2,
   "metadata": {
    "collapsed": false,
    "scrolled": false
   },
   "outputs": [
    {
     "name": "stdout",
     "output_type": "stream",
     "text": [
      "E(e1) = 0.5099531103020672\n",
      "E(e2) = 0.49670171083789605\n",
      "E(e ) = 0.3390777181905127\n"
     ]
    }
   ],
   "source": [
    "n_samples = 1000\n",
    "e1 = np.random.random(n_samples)\n",
    "e2 = np.random.random(n_samples)\n",
    "e = np.vstack((e1,e2))\n",
    "e = np.min(e, axis=0)\n",
    "print(\"E(e1) = {}\".format(np.mean(e1)))\n",
    "print(\"E(e2) = {}\".format(np.mean(e2)))\n",
    "print(\"E(e ) = {}\".format(np.mean(e)))"
   ]
  },
  {
   "cell_type": "markdown",
   "metadata": {},
   "source": [
    "### 2.2 Leave-one-out Cross-Validation Example"
   ]
  },
  {
   "cell_type": "code",
   "execution_count": 3,
   "metadata": {
    "collapsed": false
   },
   "outputs": [
    {
     "data": {
      "text/plain": [
       "(x1, x2, x3, rho)"
      ]
     },
     "execution_count": 3,
     "metadata": {},
     "output_type": "execute_result"
    }
   ],
   "source": [
    "from sympy import Matrix, Rational, Eq, sqrt\n",
    "var('x1 x2 x3 rho')"
   ]
  },
  {
   "cell_type": "markdown",
   "metadata": {},
   "source": [
    "The [ordinary least squares](https://en.wikipedia.org/wiki/Ordinary_least_squares) (OLS) estimator for the weights is:\n",
    "\n",
    "$$w = \\left(\\mathbf{X^T X}\\right)^{-1}\\mathbf{X^T y} = \\mathbf{X^\\dagger}y$$\n",
    "\n",
    "When $\\mathbf{X}$ is invertible, $\\mathbf{X^\\dagger} = \\mathbf{X^{-1}}$, so:\n",
    "\n",
    "$$w = \\mathbf{X^{-1}}y$$\n",
    "\n",
    "Lastly, the error is given by\n",
    "\n",
    "$$e = \\left[h(x) - y\\right]^2 = \\left|\\mathbf{w^T x - y}\\right|$$"
   ]
  },
  {
   "cell_type": "markdown",
   "metadata": {},
   "source": [
    "Linear model"
   ]
  },
  {
   "cell_type": "code",
   "execution_count": 4,
   "metadata": {
    "collapsed": true
   },
   "outputs": [],
   "source": [
    "def linear_model_cv_err(x1,y1,x2,y2,x3,y3):\n",
    "    X_train1 = Matrix((x2,x3))\n",
    "    X_train2 = Matrix((x1,x3))\n",
    "    X_train3 = Matrix((x1,x2))\n",
    "    display(Math('X_1^{train} = ' + latex(X_train1) + ', ' +\n",
    "                 'X_2^{train} = ' + latex(X_train2) + ', ' +\n",
    "                 'X_3^{train} = ' + latex(X_train3)))\n",
    "    display(Math('(X_1^{train})^{-1} = ' + latex(X_train1.inv()) + ', ' +\n",
    "                 '(X_2^{train})^{-1} = ' + latex(X_train2.inv()) + ', ' +\n",
    "                 '(X_3^{train})^{-1} = ' + latex(X_train3.inv()) ))\n",
    "    y_train1 = Matrix((y2,y3))\n",
    "    y_train2 = Matrix((y1,y3))\n",
    "    y_train3 = Matrix((y1,y2))\n",
    "    display(Math('y_1^{train} = ' + latex(y_train1) + ', ' +\n",
    "                 'y_2^{train} = ' + latex(y_train2) + ', ' + \n",
    "                 'y_3^{train} = ' + latex(y_train3)))\n",
    "    w1 = X_train1.inv() * y_train1\n",
    "    w2 = X_train2.inv() * y_train2\n",
    "    w3 = X_train3.inv() * y_train3\n",
    "    display(Math('w_1 = ' + latex(w1) + ', ' +\n",
    "                 'w_2 = ' + latex(w2) + ', ' +\n",
    "                 'w_3 = ' + latex(w3)))\n",
    "    y_pred1 = w1.T*Matrix(x1)\n",
    "    y_pred2 = w2.T*Matrix(x2)\n",
    "    y_pred3 = w3.T*Matrix(x3)\n",
    "    display(Math('y_1^{pred} = ' + latex(y_pred1) + ', ' +\n",
    "                 'y_2^{pred} = ' + latex(y_pred2) + ', ' +\n",
    "                 'y_3^{pred} = ' + latex(y_pred3)))\n",
    "    e1 = (y_pred1 - Matrix([y1])).norm()**2\n",
    "    e2 = (y_pred2 - Matrix([y2])).norm()**2\n",
    "    e3 = (y_pred3 - Matrix([y3])).norm()**2\n",
    "    display(Math('e_1 = ' + latex(e1) + ', ' +\n",
    "                 'e_2 = ' + latex(e2) + ', ' +\n",
    "                 'e_3 = ' + latex(e3)))\n",
    "    return (e1 + e2 + e3)/3"
   ]
  },
  {
   "cell_type": "code",
   "execution_count": 5,
   "metadata": {
    "collapsed": false,
    "scrolled": false
   },
   "outputs": [
    {
     "data": {
      "text/latex": [
       "$$X_1^{train} = \\left[\\begin{matrix}1 & \\rho\\\\1 & 1\\end{matrix}\\right], X_2^{train} = \\left[\\begin{matrix}1 & -1\\\\1 & 1\\end{matrix}\\right], X_3^{train} = \\left[\\begin{matrix}1 & -1\\\\1 & \\rho\\end{matrix}\\right]$$"
      ],
      "text/plain": [
       "<IPython.core.display.Math object>"
      ]
     },
     "metadata": {},
     "output_type": "display_data"
    },
    {
     "data": {
      "text/latex": [
       "$$(X_1^{train})^{-1} = \\left[\\begin{matrix}\\frac{\\rho}{- \\rho + 1} + 1 & - \\frac{\\rho}{- \\rho + 1}\\\\- \\frac{1}{- \\rho + 1} & \\frac{1}{- \\rho + 1}\\end{matrix}\\right], (X_2^{train})^{-1} = \\left[\\begin{matrix}\\frac{1}{2} & \\frac{1}{2}\\\\- \\frac{1}{2} & \\frac{1}{2}\\end{matrix}\\right], (X_3^{train})^{-1} = \\left[\\begin{matrix}1 - \\frac{1}{\\rho + 1} & \\frac{1}{\\rho + 1}\\\\- \\frac{1}{\\rho + 1} & \\frac{1}{\\rho + 1}\\end{matrix}\\right]$$"
      ],
      "text/plain": [
       "<IPython.core.display.Math object>"
      ]
     },
     "metadata": {},
     "output_type": "display_data"
    },
    {
     "data": {
      "text/latex": [
       "$$y_1^{train} = \\left[\\begin{matrix}1\\\\0\\end{matrix}\\right], y_2^{train} = \\left[\\begin{matrix}0\\\\0\\end{matrix}\\right], y_3^{train} = \\left[\\begin{matrix}0\\\\1\\end{matrix}\\right]$$"
      ],
      "text/plain": [
       "<IPython.core.display.Math object>"
      ]
     },
     "metadata": {},
     "output_type": "display_data"
    },
    {
     "data": {
      "text/latex": [
       "$$w_1 = \\left[\\begin{matrix}\\frac{\\rho}{- \\rho + 1} + 1\\\\- \\frac{1}{- \\rho + 1}\\end{matrix}\\right], w_2 = \\left[\\begin{matrix}0\\\\0\\end{matrix}\\right], w_3 = \\left[\\begin{matrix}\\frac{1}{\\rho + 1}\\\\\\frac{1}{\\rho + 1}\\end{matrix}\\right]$$"
      ],
      "text/plain": [
       "<IPython.core.display.Math object>"
      ]
     },
     "metadata": {},
     "output_type": "display_data"
    },
    {
     "data": {
      "text/latex": [
       "$$y_1^{pred} = \\left[\\begin{matrix}\\frac{\\rho}{- \\rho + 1} + 1 + \\frac{1}{- \\rho + 1}\\end{matrix}\\right], y_2^{pred} = \\left[\\begin{matrix}0\\end{matrix}\\right], y_3^{pred} = \\left[\\begin{matrix}\\frac{2}{\\rho + 1}\\end{matrix}\\right]$$"
      ],
      "text/plain": [
       "<IPython.core.display.Math object>"
      ]
     },
     "metadata": {},
     "output_type": "display_data"
    },
    {
     "data": {
      "text/latex": [
       "$$e_1 = \\left\\lvert{\\frac{\\rho}{\\rho - 1} - 1 + \\frac{1}{\\rho - 1}}\\right\\rvert^{2}, e_2 = 1, e_3 = 4 \\left\\lvert{\\frac{1}{\\rho + 1}}\\right\\rvert^{2}$$"
      ],
      "text/plain": [
       "<IPython.core.display.Math object>"
      ]
     },
     "metadata": {},
     "output_type": "display_data"
    },
    {
     "data": {
      "text/latex": [
       "$$e_{linear\\;model} = \\frac{4}{3} \\left\\lvert{\\frac{1}{\\rho + 1}}\\right\\rvert^{2} + \\frac{1}{3} \\left\\lvert{\\frac{\\rho}{\\rho - 1} - 1 + \\frac{1}{\\rho - 1}}\\right\\rvert^{2} + \\frac{1}{3}$$"
      ],
      "text/plain": [
       "<IPython.core.display.Math object>"
      ]
     },
     "metadata": {},
     "output_type": "display_data"
    }
   ],
   "source": [
    "x1 = 1,-1\n",
    "x2 = 1,rho\n",
    "x3 = 1,1\n",
    "y1 = 0\n",
    "y2 = 1\n",
    "y3 = 0\n",
    "e_linear = linear_model_cv_err(x1,y1,x2,y2,x3,y3)\n",
    "display(Math('e_{linear\\;model} = ' + latex(e_linear)))"
   ]
  },
  {
   "cell_type": "markdown",
   "metadata": {},
   "source": [
    "Constant model (inverse does not work here as the matrix is not square)"
   ]
  },
  {
   "cell_type": "code",
   "execution_count": 6,
   "metadata": {
    "collapsed": true
   },
   "outputs": [],
   "source": [
    "def const_model_cv_err(x1,y1,x2,y2,x3,y3):\n",
    "    X_train1 = Matrix((x2,x3))\n",
    "    X_train2 = Matrix((x1,x3))\n",
    "    X_train3 = Matrix((x1,x2))\n",
    "    y_train1 = Matrix((y2,y3))\n",
    "    y_train2 = Matrix((y1,y3))\n",
    "    y_train3 = Matrix((y1,y2))\n",
    "    w1 = Rational(y2+y3,2)\n",
    "    w2 = Rational(y1+y3,2)\n",
    "    w3 = Rational(y1+y2,2)\n",
    "    e1 = (w1 * Matrix([x1]) - Matrix([y1])).norm()**2\n",
    "    e2 = (w2 * Matrix([x2]) - Matrix([y2])).norm()**2\n",
    "    e3 = (w3 * Matrix([x3]) - Matrix([y3])).norm()**2\n",
    "    return Rational(e1 + e2 + e3,3)"
   ]
  },
  {
   "cell_type": "code",
   "execution_count": 7,
   "metadata": {
    "collapsed": false
   },
   "outputs": [
    {
     "data": {
      "text/latex": [
       "$$e_{constant\\;model} = \\frac{1}{2}$$"
      ],
      "text/plain": [
       "<IPython.core.display.Math object>"
      ]
     },
     "metadata": {},
     "output_type": "display_data"
    }
   ],
   "source": [
    "x1 = 1\n",
    "x2 = 1\n",
    "x3 = 1\n",
    "y1 = 0\n",
    "y2 = 1\n",
    "y3 = 0\n",
    "e_const = const_model_cv_err(x1,y1,x2,y2,x3,y3)\n",
    "display(Math('e_{constant\\;model} = ' + latex(e_const)))"
   ]
  },
  {
   "cell_type": "code",
   "execution_count": 8,
   "metadata": {
    "collapsed": false,
    "scrolled": true
   },
   "outputs": [
    {
     "data": {
      "text/latex": [
       "$$- \\frac{4 \\sqrt{3}}{3} + \\frac{31}{9}=1.13504336768594$$"
      ],
      "text/plain": [
       "<IPython.core.display.Math object>"
      ]
     },
     "metadata": {},
     "output_type": "display_data"
    },
    {
     "data": {
      "text/latex": [
       "$$\\frac{56 \\sqrt{3}}{3} + \\frac{97}{3}=64.6649484079524$$"
      ],
      "text/plain": [
       "<IPython.core.display.Math object>"
      ]
     },
     "metadata": {},
     "output_type": "display_data"
    },
    {
     "data": {
      "text/latex": [
       "$$\\frac{1}{2}=0.500000000000000$$"
      ],
      "text/plain": [
       "<IPython.core.display.Math object>"
      ]
     },
     "metadata": {},
     "output_type": "display_data"
    },
    {
     "data": {
      "text/latex": [
       "$$\\frac{60 \\sqrt{6}}{841} + \\frac{683}{841}=0.986883929330548$$"
      ],
      "text/plain": [
       "<IPython.core.display.Math object>"
      ]
     },
     "metadata": {},
     "output_type": "display_data"
    }
   ],
   "source": [
    "rho1 = sqrt(sqrt(3)+4)\n",
    "rho2 = sqrt(sqrt(3)-1)\n",
    "rho3 = sqrt(9+4*sqrt(6))\n",
    "rho4 = sqrt(9-sqrt(6))\n",
    "ans1 = e_linear.subs(rho,rho1).simplify()\n",
    "ans2 = e_linear.subs(rho,rho2).simplify()\n",
    "ans3 = e_linear.subs(rho,rho3).simplify()\n",
    "ans4 = e_linear.subs(rho,rho4).simplify()\n",
    "display(Math(latex(ans1) + '=' + str(ans1.evalf())))\n",
    "display(Math(latex(ans2) + '=' + str(ans2.evalf())))\n",
    "display(Math(latex(ans3) + '=' + str(ans3.evalf())))\n",
    "display(Math(latex(ans4) + '=' + str(ans4.evalf())))"
   ]
  },
  {
   "cell_type": "markdown",
   "metadata": {},
   "source": [
    "Here, we can see that the 3rd expression gives the same leave-one-out cross validation error as the constant model."
   ]
  },
  {
   "cell_type": "code",
   "execution_count": 9,
   "metadata": {
    "collapsed": false
   },
   "outputs": [
    {
     "data": {
      "text/latex": [
       "$$8 \\left\\lvert{\\frac{1}{\\rho + 1}}\\right\\rvert^{2} + 2 \\left\\lvert{\\frac{\\rho}{\\rho - 1} - 1 + \\frac{1}{\\rho - 1}}\\right\\rvert^{2} - 1 = 0$$"
      ],
      "text/plain": [
       "<IPython.core.display.Math object>"
      ]
     },
     "execution_count": 9,
     "metadata": {},
     "output_type": "execute_result"
    }
   ],
   "source": [
    "Math(latex(Eq(6*(e_linear-e_const),0)))"
   ]
  },
  {
   "cell_type": "markdown",
   "metadata": {},
   "source": [
    "## 3. Quadratic Programming\n",
    "\n",
    "### 3.1 Background\n",
    "In the notation of `help(solve_qp)`, we wish to minimize:\n",
    "\n",
    "$$\\frac{1}{2}\\mathbf{x^T G x - a^T x}$$\n",
    "\n",
    "subject to the constraint\n",
    "\n",
    "$$\\mathbf{C^T x} \\ge \\mathbf{b}$$"
   ]
  },
  {
   "cell_type": "markdown",
   "metadata": {},
   "source": [
    "The matrix, `Q`, (also called `Dmat`) is:\n",
    "\n",
    "$$G = \\left[\\begin{array}{cccc}\n",
    "y_1 y_1 \\mathbf{x_1^T x_1} & y_1 y_2 \\mathbf{x_1^T x_2} & \\cdots & y_1 y_N \\mathbf{x_1^T x_N}\\\\\n",
    "y_2 y_1 \\mathbf{x_2^T x_1} & y_2 y_2 \\mathbf{x_2^T x_2} & \\cdots & y_2 y_N \\mathbf{x_2^T x_N}\\\\\n",
    "\\vdots & \\vdots & & \\vdots\\\\\n",
    "y_N y_1 \\mathbf{x_N^T x_1} & y_N y_2 \\mathbf{x_N^T x_2} & \\cdots & y_N y_N \\mathbf{x_N^T x_N}\\end{array}\\right]$$\n",
    "\n",
    "The calculation of the above matrix is implemented in the code below:"
   ]
  },
  {
   "cell_type": "code",
   "execution_count": 10,
   "metadata": {
    "collapsed": true
   },
   "outputs": [],
   "source": [
    "def get_Dmat(X,y):\n",
    "    n = len(X)\n",
    "    K = np.zeros(shape=(n,n))\n",
    "    for i in range(n):\n",
    "        for j in range(n):\n",
    "            K[i,j] = np.dot(X[i], X[j])\n",
    "    Q = np.outer(y,y)*K\n",
    "    return(Q)"
   ]
  },
  {
   "cell_type": "markdown",
   "metadata": {},
   "source": [
    "Calculation of `dvec`:\n",
    "\n",
    "$$-\\mathbf{a^T x} = \\left(-\\mathbf{1^T}\\right)\\mathbf{\\alpha} = \\begin{pmatrix} -1 & -1 & \\dots & -1\\end{pmatrix}\\mathbf{\\alpha}$$\n",
    "\n",
    "is implemented as:\n",
    "\n",
    "```python\n",
    "a = np.ones(n)\n",
    "```"
   ]
  },
  {
   "cell_type": "markdown",
   "metadata": {},
   "source": [
    "Calculation of Inequality constraint:\n",
    "\n",
    "$$\\mathbf{C^T x} \\ge \\mathbf{b}$$\n",
    "\n",
    "via\n",
    "\n",
    "$$\\mathbf{y^T x} \\ge \\mathbf{0}$$\n",
    "\n",
    "$$\\mathbf{\\alpha} \\ge \\mathbf{0}$$\n",
    "\n",
    "where the last two constraints are implemented as:\n",
    "\n",
    "$$\\mathbf{C^T} = \\begin{pmatrix}y_1 & y_2 & \\dots & y_n\\\\\n",
    "1 & 0 & \\cdots & 0\\\\\n",
    "0 & 1 & \\cdots & 0\\\\\n",
    "\\vdots & \\vdots & \\ddots & \\vdots\\\\\n",
    "0 & 0 & \\cdots & 1\\end{pmatrix}$$\n",
    "\n",
    "$$\\mathbf{b} = \\begin{pmatrix}0 \\\\ 0 \\\\ \\vdots \\\\ 0\\end{pmatrix}$$\n",
    "\n",
    "```python\n",
    "C = np.vstack([y,np.eye(n)])\n",
    "b = np.zeros(1+n)\n",
    "```"
   ]
  },
  {
   "cell_type": "code",
   "execution_count": 11,
   "metadata": {
    "collapsed": true
   },
   "outputs": [],
   "source": [
    "def get_GaCb(X,y, verbose=False):\n",
    "    n = len(X)\n",
    "    assert n == len(y)\n",
    "    G = get_Dmat(X,y)\n",
    "    a = np.ones(n)\n",
    "    C = np.vstack([y,np.eye(n)]).T\n",
    "    b = np.zeros(1+n)\n",
    "    I = np.eye(n, dtype=float)\n",
    "    assert G.shape == (n,n)\n",
    "    assert y.shape == (n,)\n",
    "    assert a.shape == (n,)\n",
    "    assert C.shape == (n,n+1)\n",
    "    assert b.shape == (1+n,)\n",
    "    assert I.shape == (n,n)\n",
    "    if verbose is True:\n",
    "        print(G)\n",
    "        print(C.astype(int).T)\n",
    "    return G,a,C,b,I"
   ]
  },
  {
   "cell_type": "code",
   "execution_count": 12,
   "metadata": {
    "collapsed": true
   },
   "outputs": [],
   "source": [
    "def solve_cvxopt(P, q, G, h, A, b):\n",
    "    P = cvxopt.matrix(P)\n",
    "    q = cvxopt.matrix(q)\n",
    "    G = cvxopt.matrix(G)\n",
    "    h = cvxopt.matrix(h) \n",
    "    A = cvxopt.matrix(A)\n",
    "    b = cvxopt.matrix(b)\n",
    "    solution = cvxopt.solvers.qp(P, q, G, h, A, b)\n",
    "    return solution"
   ]
  },
  {
   "cell_type": "code",
   "execution_count": 13,
   "metadata": {
    "collapsed": true
   },
   "outputs": [],
   "source": [
    "def create_toy_problem_1():\n",
    "    X = np.array(\n",
    "         [[ 1.0],\n",
    "          [ 2.0],\n",
    "          [ 3.0]])\n",
    "    y = np.array([-1,-1,1], dtype=float)\n",
    "    return X,y\n",
    "\n",
    "def create_toy_problem_2():\n",
    "    X = np.array(\n",
    "         [[ 1.0, 0.0],\n",
    "          [ 2.0, 0.0],\n",
    "          [ 3.0, 0.0]])\n",
    "    y = np.array([-1,-1,1], dtype=float)\n",
    "    return X,y\n",
    "\n",
    "def create_toy_problem_3():\n",
    "    X = np.array(\n",
    "         [[ 0.0, 0.0],\n",
    "          [ 2.0, 2.0],\n",
    "          [ 2.0, 0.0],\n",
    "          [ 3.0, 0.0]])\n",
    "    y = np.array([-1,-1,1,1], dtype=float)\n",
    "    return X,y\n",
    "\n",
    "def create_toy_problem_4():\n",
    "    X = np.array(\n",
    "         [[ 0.78683463, 0.44665934],\n",
    "          [-0.16648517,-0.72218041],\n",
    "          [ 0.94398266, 0.74900882],\n",
    "          [ 0.45756412,-0.91334759],\n",
    "          [ 0.15403063,-0.75459915],\n",
    "          [-0.47632360, 0.02265701],\n",
    "          [ 0.53992470,-0.25138609],\n",
    "          [-0.73822772,-0.50766569],\n",
    "          [ 0.92590792,-0.92529239],\n",
    "          [ 0.08283211,-0.15199064]])\n",
    "    y = np.array([-1,1,-1,1,1,-1,1,-1,1,1], dtype=float)\n",
    "    G,a,C,b,I = get_GaCb(X,y)\n",
    "    assert np.allclose(G[0,:],np.array([0.818613299,0.453564930,1.077310034,0.047927947,\n",
    "        0.215852131,-0.364667935,-0.312547506,-0.807616753,-0.315245922,0.002712864]))\n",
    "    assert np.allclose(G[n-1,:],np.array([0.002712864,0.095974341,0.035650250,0.176721283,\n",
    "        0.127450687,0.042898544,0.082931435,-0.016011470,0.217330687,0.029962312]))\n",
    "    return X,y"
   ]
  },
  {
   "cell_type": "code",
   "execution_count": 14,
   "metadata": {
    "collapsed": false
   },
   "outputs": [],
   "source": [
    "def solve_quadratic_programming(X,y,tol=1.0e-8,method='solve_qp'):\n",
    "    n = len(X)\n",
    "    G,a,C,b,I = get_GaCb(X,y)\n",
    "    eigs = np.linalg.eigvals(G + tol*I)\n",
    "    pos_definite = np.all(eigs > 0)\n",
    "    if pos_definite is False:\n",
    "        print(\"Warning! Positive Definite(G+tol*I) = {}\".format(pos_definite))\n",
    "    \n",
    "    if method=='solve_qp':\n",
    "        try:\n",
    "            alphas, f, xu, iters, lagr, iact = quadprog.solve_qp(G + tol*I,a,C,b,meq=1)\n",
    "            print(\"solve_qp(): alphas = {} (f = {})\".format(alphas,f))\n",
    "            return alphas\n",
    "        except:\n",
    "            print(\"solve_qp() failed\")\n",
    "    else:\n",
    "        #solution = cvxopt.solvers.qp(G, a, np.eye(n), np.zeros(n), np.diag(y), np.zeros(n))\n",
    "        solution = solve_cvxopt(P=G, q=-np.ones(n),\n",
    "                                G=-np.eye(n), h=np.zeros(n),\n",
    "                                A=np.array([y]), b=np.zeros(1))  #A=np.diag(y), b=np.zeros(n))\n",
    "        if solution['status'] != 'optimal':\n",
    "            print(\"cvxopt.solvers.qp() failed\")\n",
    "            return None\n",
    "        else:\n",
    "            alphas = np.ravel(solution['x'])\n",
    "            print(\"cvxopt.solvers.qp(): alphas = {}\".format(alphas))\n",
    "        #ssv = alphas > 1e-5\n",
    "        #alphas = alphas[ssv]\n",
    "        #print(\"alphas = {}\".format(alphas))\n",
    "        return alphas"
   ]
  },
  {
   "cell_type": "markdown",
   "metadata": {},
   "source": [
    "Here, the qudar"
   ]
  },
  {
   "cell_type": "code",
   "execution_count": 15,
   "metadata": {
    "collapsed": false,
    "scrolled": true
   },
   "outputs": [
    {
     "name": "stdout",
     "output_type": "stream",
     "text": [
      "[[ 0.  0. -0. -0.]\n",
      " [ 0.  8. -4. -6.]\n",
      " [-0. -4.  4.  6.]\n",
      " [-0. -6.  6.  9.]]\n",
      "[[-1 -1  1  1]\n",
      " [ 1  0  0  0]\n",
      " [ 0  1  0  0]\n",
      " [ 0  0  1  0]\n",
      " [ 0  0  0  1]]\n"
     ]
    }
   ],
   "source": [
    "#X, y = create_toy_problem_1()\n",
    "X, y = create_toy_problem_3()\n",
    "G,a,C,b,I = get_GaCb(X,y,verbose=True)"
   ]
  },
  {
   "cell_type": "code",
   "execution_count": 16,
   "metadata": {
    "collapsed": false,
    "scrolled": true
   },
   "outputs": [
    {
     "name": "stdout",
     "output_type": "stream",
     "text": [
      "     pcost       dcost       gap    pres   dres\n",
      " 0: -8.1633e-01 -2.1224e+00  6e+00  2e+00  2e+00\n",
      " 1: -8.5663e-01 -1.5796e+00  7e-01  3e-16  6e-16\n",
      " 2: -9.9227e-01 -1.0195e+00  3e-02  2e-16  3e-16\n",
      " 3: -9.9992e-01 -1.0002e+00  3e-04  2e-16  3e-16\n",
      " 4: -1.0000e+00 -1.0000e+00  3e-06  2e-16  6e-16\n",
      " 5: -1.0000e+00 -1.0000e+00  3e-08  2e-16  2e-16\n",
      "Optimal solution found.\n",
      "cvxopt.solvers.qp(): alphas = [  5.0000e-01   5.0000e-01   1.0000e+00   7.8099e-09]\n",
      "solve_qp(): alphas = [ 0.5  0.5  1.   0. ] (f = -0.9999999981373549)\n"
     ]
    }
   ],
   "source": [
    "X, y = create_toy_problem_3()\n",
    "alphas1 = solve_quadratic_programming(X,y,method='cvxopt')\n",
    "alphas2 = solve_quadratic_programming(X,y,method='solve_qp')"
   ]
  },
  {
   "cell_type": "code",
   "execution_count": 17,
   "metadata": {
    "collapsed": false,
    "scrolled": true
   },
   "outputs": [],
   "source": [
    "#h = np.hstack([\n",
    "#    np.zeros(n),\n",
    "#    np.ones(n) * 999999999.0])\n",
    "#A = np.array([y])    #A = cvxopt.matrix(y, (1,n))\n",
    "#b = np.array([0.0])  #b = cvxopt.matrix(0.0)"
   ]
  },
  {
   "cell_type": "code",
   "execution_count": 18,
   "metadata": {
    "collapsed": true
   },
   "outputs": [],
   "source": [
    "def solve_cvxopt(n,P,y_output):\n",
    "    # Generating all the matrices and vectors\n",
    "    # P = cvxopt.matrix(np.outer(y_output, y_output) * K)\n",
    "    q = cvxopt.matrix(np.ones(n) * -1)\n",
    "    G = cvxopt.matrix(np.vstack([\n",
    "        np.eye(n) * -1,\n",
    "        np.eye(n)\n",
    "        ]))\n",
    "    h = cvxopt.matrix(np.hstack([\n",
    "        np.zeros(n),\n",
    "        np.ones(n) * 999999999.0\n",
    "        ])) \n",
    "    A = cvxopt.matrix(y_output, (1,n))\n",
    "    b = cvxopt.matrix(0.0)\n",
    "    solution = cvxopt.solvers.qp(P, q, G, h, A, b)\n",
    "    return solution"
   ]
  },
  {
   "cell_type": "code",
   "execution_count": 19,
   "metadata": {
    "collapsed": false
   },
   "outputs": [],
   "source": [
    "G = np.eye(3, 3)\n",
    "a = np.array([0, 5, 0], dtype=np.double)\n",
    "C = np.array([[-4, 2, 0], [-3, 1, -2], [0, 0, 1]], dtype=np.double)\n",
    "b = np.array([-8, 2, 0], dtype=np.double)\n",
    "xf, f, xu, iters, lagr, iact = quadprog.solve_qp(G, a, C, b)"
   ]
  },
  {
   "cell_type": "code",
   "execution_count": 20,
   "metadata": {
    "collapsed": true
   },
   "outputs": [],
   "source": [
    "#https://github.com/rmcgibbo/quadprog/blob/master/quadprog/tests/test_1.py\n",
    "def solve_qp_scipy(G, a, C, b, meq=0):\n",
    "    # Minimize     1/2 x^T G x - a^T x\n",
    "    # Subject to   C.T x >= b\n",
    "    def f(x):\n",
    "        return 0.5 * np.dot(x, G).dot(x) - np.dot(a, x)\n",
    "\n",
    "    if C is not None and b is not None:\n",
    "        constraints = [{\n",
    "            'type': 'ineq',\n",
    "            'fun': lambda x, C=C, b=b, i=i: (np.dot(C.T, x) - b)[i]\n",
    "        } for i in range(C.shape[1])]\n",
    "    else:\n",
    "        constraints = []\n",
    "\n",
    "    result = scipy.optimize.minimize(f, x0=np.zeros(len(G)), method='COBYLA',\n",
    "        constraints=constraints, tol=1e-10)\n",
    "    return result\n",
    "\n",
    "def verify(G, a, C=None, b=None):\n",
    "    xf, f, xu, iters, lagr, iact = quadprog.solve_qp(G, a, C, b)\n",
    "    result = solve_qp_scipy(G, a, C, b)\n",
    "    np.testing.assert_array_almost_equal(result.x, xf)\n",
    "    np.testing.assert_array_almost_equal(result.fun, f)\n",
    "    \n",
    "def test_1():\n",
    "    G = np.eye(3, 3)\n",
    "    a = np.array([0, 5, 0], dtype=np.double)\n",
    "    C = np.array([[-4, 2, 0], [-3, 1, -2], [0, 0, 1]], dtype=np.double)\n",
    "    b = np.array([-8, 2, 0], dtype=np.double)\n",
    "    xf, f, xu, iters, lagr, iact = quadprog.solve_qp(G, a, C, b)\n",
    "    np.testing.assert_array_almost_equal(xf, [0.4761905, 1.0476190, 2.0952381])\n",
    "    np.testing.assert_almost_equal(f, -2.380952380952381)\n",
    "    np.testing.assert_almost_equal(xu, [0, 5, 0])\n",
    "    np.testing.assert_array_equal(iters, [3, 0])\n",
    "    np.testing.assert_array_almost_equal(lagr, [0.0000000, 0.2380952, 2.0952381])\n",
    "\n",
    "    verify(G, a, C, b)\n",
    "    \n",
    "def test_2():\n",
    "    G = np.eye(3, 3)\n",
    "    a = np.array([0, 0, 0], dtype=np.double)\n",
    "    C = np.ones((3, 1))\n",
    "    b = -1000 * np.ones(1)\n",
    "    verify(G, a, C, b)\n",
    "    verify(G, a)\n",
    "    \n",
    "def test_3():\n",
    "    random = np.random.RandomState(0)\n",
    "    G = scipy.stats.wishart(scale=np.eye(3,3), seed=random).rvs()\n",
    "    a = random.randn(3)\n",
    "    C = random.randn(3, 2)\n",
    "    b = random.randn(2)\n",
    "    verify(G, a, C, b)\n",
    "    verify(G, a)"
   ]
  },
  {
   "cell_type": "code",
   "execution_count": 21,
   "metadata": {
    "collapsed": false
   },
   "outputs": [],
   "source": [
    "test_1()\n",
    "test_2()\n",
    "test_3()"
   ]
  },
  {
   "cell_type": "code",
   "execution_count": 22,
   "metadata": {
    "collapsed": true
   },
   "outputs": [],
   "source": [
    "#https://gist.github.com/zibet/4f76b66feeb5aa24e124740081f241cb\n",
    "from cvxopt import solvers\n",
    "from cvxopt import matrix\n",
    "\n",
    "def toysvm():\n",
    "    def to_matrix(a):\n",
    "        return matrix(a, tc='d')    \n",
    "    X = np.array([\n",
    "        [0,2],\n",
    "        [2,2],\n",
    "        [2,0],\n",
    "        [3,0]], dtype=float)\n",
    "    y = np.array([-1,-1,1,1], dtype=float)\n",
    "    Qd = np.array([\n",
    "        [0,0,0,0],\n",
    "        [0,8,-4,-6],\n",
    "        [0,-4,4,6],\n",
    "        [0,-6,6,9]], dtype=float)\n",
    "    Ad = np.array([\n",
    "        [-1,-1,1,1],\n",
    "        [1,1,-1,-1],\n",
    "        [1,0,0,0],\n",
    "        [0,1,0,0],\n",
    "        [0,0,1,0],\n",
    "        [0,0,0,1]], dtype=float)\n",
    "    N = len(y)\n",
    "    P = to_matrix(Qd)\n",
    "    q = to_matrix(-(np.ones((N))))\n",
    "    G = to_matrix(-Ad)\n",
    "    h = to_matrix(np.array(np.zeros(N+2)))\n",
    "    sol = solvers.qp(P,q,G,h)\n",
    "    print(sol['x'])\n",
    "    \n",
    "    #xf, f, xu, iters, lagr, iact = solve_qp(Qd, y, Ad, X)"
   ]
  },
  {
   "cell_type": "code",
   "execution_count": 23,
   "metadata": {
    "collapsed": false
   },
   "outputs": [
    {
     "name": "stdout",
     "output_type": "stream",
     "text": [
      "     pcost       dcost       gap    pres   dres\n",
      " 0: -1.0249e+00 -2.3063e+00  1e+01  3e+00  2e+00\n",
      " 1: -8.2851e-01 -1.7889e+00  1e+00  1e-01  6e-02\n",
      " 2: -9.8330e-01 -1.0720e+00  1e-01  4e-03  2e-03\n",
      " 3: -9.9979e-01 -1.0008e+00  1e-03  4e-05  2e-05\n",
      " 4: -1.0000e+00 -1.0000e+00  1e-05  4e-07  2e-07\n",
      " 5: -1.0000e+00 -1.0000e+00  1e-07  4e-09  2e-09\n",
      "Optimal solution found.\n",
      "[ 5.00e-01]\n",
      "[ 5.00e-01]\n",
      "[ 1.00e+00]\n",
      "[ 2.20e-08]\n",
      "\n"
     ]
    }
   ],
   "source": [
    "toysvm()"
   ]
  }
 ],
 "metadata": {
  "kernelspec": {
   "display_name": "Python 3",
   "language": "python",
   "name": "python3"
  },
  "language_info": {
   "codemirror_mode": {
    "name": "ipython",
    "version": 3
   },
   "file_extension": ".py",
   "mimetype": "text/x-python",
   "name": "python",
   "nbconvert_exporter": "python",
   "pygments_lexer": "ipython3",
   "version": "3.5.1"
  }
 },
 "nbformat": 4,
 "nbformat_minor": 0
}
